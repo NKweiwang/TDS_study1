{
 "cells": [
  {
   "cell_type": "code",
   "execution_count": null,
   "metadata": {
    "collapsed": true
   },
   "outputs": [],
   "source": [
    "def fourSum(self, nums, target):\n",
    "    nums.sort()\n",
    "    results = []\n",
    "    self.findNsum(nums, target, 4, [], results)\n",
    "    return results\n",
    "\n",
    "def findNsum(self, nums, target, N, result, results):\n",
    "    if len(nums) < N or N < 2: return\n",
    "\n",
    "    # solve 2-sum\n",
    "    if N == 2:\n",
    "        l,r = 0,len(nums)-1\n",
    "        while l < r:\n",
    "            if nums[l] + nums[r] == target:\n",
    "                results.append(result + [nums[l], nums[r]])\n",
    "                l += 1\n",
    "                r -= 1\n",
    "                while l < r and nums[l] == nums[l - 1]:\n",
    "                    l += 1\n",
    "                while r > l and nums[r] == nums[r + 1]:\n",
    "                    r -= 1\n",
    "            elif nums[l] + nums[r] < target:\n",
    "                l += 1\n",
    "            else:\n",
    "                r -= 1\n",
    "    else:\n",
    "        for i in range(0, len(nums)-N+1):   # careful about range\n",
    "            if target < nums[i]*N or target > nums[-1]*N:  # take advantages of sorted list\n",
    "                break\n",
    "            if i == 0 or i > 0 and nums[i-1] != nums[i]:  # recursively reduce N\n",
    "                self.findNsum(nums[i+1:], target-nums[i], N-1, result+[nums[i]], results)\n",
    "    return"
   ]
  }
 ],
 "metadata": {
  "kernelspec": {
   "display_name": "Python 3",
   "language": "python",
   "name": "python3"
  },
  "language_info": {
   "codemirror_mode": {
    "name": "ipython",
    "version": 3
   },
   "file_extension": ".py",
   "mimetype": "text/x-python",
   "name": "python",
   "nbconvert_exporter": "python",
   "pygments_lexer": "ipython3",
   "version": "3.6.0"
  }
 },
 "nbformat": 4,
 "nbformat_minor": 2
}
