{
 "cells": [
  {
   "cell_type": "code",
   "execution_count": 36,
   "metadata": {
    "collapsed": false
   },
   "outputs": [
    {
     "data": {
      "text/plain": [
       "3"
      ]
     },
     "execution_count": 36,
     "metadata": {},
     "output_type": "execute_result"
    }
   ],
   "source": [
    "nums = [1,0,0,0,0,0,0,0,1]\n",
    "def cero(n):\n",
    "    return max(((n+1) //2) - 1,0)\n",
    "def fnums(nums):\n",
    "    count_zero = 0\n",
    "    count = 0\n",
    "    for i in range(len(nums)):\n",
    "        if nums[i] ==0:\n",
    "            count_zero += 1\n",
    "        elif nums[i] ==1 or i == len(nums)-1:\n",
    "            count += cero(count_zero)\n",
    "            count_zero = 0\n",
    "        #print(count_zero,count)\n",
    "    return count\n",
    "fnums(nums)"
   ]
  },
  {
   "cell_type": "code",
   "execution_count": null,
   "metadata": {
    "collapsed": true
   },
   "outputs": [],
   "source": [
    "def canPlaceFlowers(self, A, N):\n",
    "    for i, x in enumerate(A):\n",
    "        if (not x and (i == 0 or A[i-1] == 0) \n",
    "                and (i == len(A)-1 or A[i+1] == 0)):\n",
    "            N -= 1\n",
    "            A[i] = 1\n",
    "    return N <= 0"
   ]
  }
 ],
 "metadata": {
  "kernelspec": {
   "display_name": "Python 3",
   "language": "python",
   "name": "python3"
  },
  "language_info": {
   "codemirror_mode": {
    "name": "ipython",
    "version": 3
   },
   "file_extension": ".py",
   "mimetype": "text/x-python",
   "name": "python",
   "nbconvert_exporter": "python",
   "pygments_lexer": "ipython3",
   "version": "3.6.0"
  }
 },
 "nbformat": 4,
 "nbformat_minor": 2
}
