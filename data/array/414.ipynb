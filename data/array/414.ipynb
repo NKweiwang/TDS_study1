{
 "cells": [
  {
   "cell_type": "code",
   "execution_count": 21,
   "metadata": {
    "collapsed": false
   },
   "outputs": [
    {
     "data": {
      "text/plain": [
       "([0, 1, 2], 1)"
      ]
     },
     "execution_count": 21,
     "metadata": {},
     "output_type": "execute_result"
    }
   ],
   "source": [
    "nums = [1,1,2]\n",
    "v = [0,0,0]\n",
    "for k in nums:\n",
    "    if k > v[2] and k not in v:\n",
    "        v[0],v[1] = v[1],v[2]\n",
    "        v[2] = k\n",
    "    elif k > v[1] and k not in v:\n",
    "        v[0] = v[1]\n",
    "        v[1] = k\n",
    "    elif k > v[0] and k not in v:\n",
    "        v[0] = k\n",
    "vv = 0\n",
    "for i in range(len(v)):\n",
    "    if v[i] !=0:\n",
    "        vv = v[i]\n",
    "        break\n",
    "v,vv"
   ]
  },
  {
   "cell_type": "code",
   "execution_count": null,
   "metadata": {
    "collapsed": true
   },
   "outputs": [],
   "source": []
  }
 ],
 "metadata": {
  "kernelspec": {
   "display_name": "Python 3",
   "language": "python",
   "name": "python3"
  },
  "language_info": {
   "codemirror_mode": {
    "name": "ipython",
    "version": 3
   },
   "file_extension": ".py",
   "mimetype": "text/x-python",
   "name": "python",
   "nbconvert_exporter": "python",
   "pygments_lexer": "ipython3",
   "version": "3.6.0"
  }
 },
 "nbformat": 4,
 "nbformat_minor": 2
}
