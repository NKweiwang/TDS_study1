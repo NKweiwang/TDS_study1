{
 "cells": [
  {
   "cell_type": "code",
   "execution_count": 69,
   "metadata": {
    "collapsed": false
   },
   "outputs": [
    {
     "data": {
      "text/plain": [
       "[1, 2, 3, 6, 9, 3, 8, 2, 7, 4, 5, 8]"
      ]
     },
     "execution_count": 69,
     "metadata": {},
     "output_type": "execute_result"
    }
   ],
   "source": [
    "array = [\n",
    " [ 1, 2, 3],\n",
    " [ 4, 5, 6],\n",
    " [ 7, 8, 9 ],\n",
    " [ 2, 8, 3 ]\n",
    "]\n",
    "n = len(array)\n",
    "m = len(array[0])\n",
    "up = 0\n",
    "down = n - 1\n",
    "left = 0\n",
    "right = m -1\n",
    "\n",
    "out = []\n",
    "\n",
    "\n",
    "while down > up and left < right:\n",
    "    for j in range(left,right):\n",
    "        out = out + [array[up][j]]\n",
    "    for j in range(up,down):\n",
    "        out = out + [array[j][right]]\n",
    "    for j in range(right,left,-1):\n",
    "        out = out + [array[down][j]]\n",
    "    for j in range(down,up,-1):\n",
    "        out = out + [array[j][left]]\n",
    "\n",
    "    up += 1\n",
    "    down -= 1\n",
    "    left += 1\n",
    "    right -= 1\n",
    "if left == right:\n",
    "    out = out+ [array[i][left] for i in range(up,down+1)]\n",
    "if down == up:\n",
    "    out = out + [array[up][i] for i in range(left,right+1)]\n",
    "out"
   ]
  }
 ],
 "metadata": {
  "kernelspec": {
   "display_name": "Python 3",
   "language": "python",
   "name": "python3"
  },
  "language_info": {
   "codemirror_mode": {
    "name": "ipython",
    "version": 3
   },
   "file_extension": ".py",
   "mimetype": "text/x-python",
   "name": "python",
   "nbconvert_exporter": "python",
   "pygments_lexer": "ipython3",
   "version": "3.6.0"
  }
 },
 "nbformat": 4,
 "nbformat_minor": 2
}
