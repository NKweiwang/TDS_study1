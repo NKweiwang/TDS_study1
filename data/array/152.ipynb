{
 "cells": [
  {
   "cell_type": "code",
   "execution_count": 18,
   "metadata": {
    "collapsed": false
   },
   "outputs": [
    {
     "name": "stdout",
     "output_type": "stream",
     "text": [
      "1 2\n",
      "2 6\n",
      "6 6\n",
      "6 6\n",
      "6 48\n",
      "48 1\n",
      "48 2\n",
      "48 2\n",
      "48 2\n",
      "48 400\n"
     ]
    },
    {
     "data": {
      "text/plain": [
       "400"
      ]
     },
     "execution_count": 18,
     "metadata": {},
     "output_type": "execute_result"
    }
   ],
   "source": [
    "nums = [2,3,-2,4,-1,0,2,-2,1,-100]\n",
    "\n",
    "max_pre = 1\n",
    "max_crt = 1\n",
    "\n",
    "run_max = 1\n",
    "wait_max = 1\n",
    "\n",
    "cuprod = 1\n",
    "\n",
    "for i in nums:\n",
    "    if i < 0:\n",
    "        cuprod = cuprod * i\n",
    "        wait_max = run_max\n",
    "        run_max = cuprod\n",
    "    if i > 0:\n",
    "        cuprod = cuprod * i\n",
    "        run_max = cuprod\n",
    "    max_crt = max(wait_max,run_max)\n",
    "    if i ==0:\n",
    "        cuprod = 1\n",
    "        wait_max = 1\n",
    "        run_max = 1\n",
    "        max_pre = max_crt\n",
    "        max_crt = 1\n",
    "    print(max_pre,max_crt)\n",
    "    if max_pre < max_crt:\n",
    "        max_pre = max_crt\n",
    "max(max_crt,max_pre)"
   ]
  }
 ],
 "metadata": {
  "kernelspec": {
   "display_name": "Python 3",
   "language": "python",
   "name": "python3"
  },
  "language_info": {
   "codemirror_mode": {
    "name": "ipython",
    "version": 3
   },
   "file_extension": ".py",
   "mimetype": "text/x-python",
   "name": "python",
   "nbconvert_exporter": "python",
   "pygments_lexer": "ipython3",
   "version": "3.6.0"
  }
 },
 "nbformat": 4,
 "nbformat_minor": 2
}
