{
 "cells": [
  {
   "cell_type": "code",
   "execution_count": 23,
   "metadata": {
    "collapsed": false
   },
   "outputs": [
    {
     "name": "stdout",
     "output_type": "stream",
     "text": [
      "find\n",
      "2\n"
     ]
    },
    {
     "data": {
      "text/plain": [
       "(1, 4, 2)"
      ]
     },
     "execution_count": 23,
     "metadata": {},
     "output_type": "execute_result"
    }
   ],
   "source": [
    "nums = [1,5,8,1,1,1,1,1,1]\n",
    "target = 8\n",
    "i = 0 \n",
    "j = len(nums)-1\n",
    "while i < j:\n",
    "    if nums[j] == target:\n",
    "        print(\"find\")\n",
    "        print(j)\n",
    "        break\n",
    "    mid = round((i+j)/2)\n",
    "    if nums[mid] == target:\n",
    "        print(\"find\")\n",
    "        print(mid)\n",
    "        break\n",
    "    if nums[mid] == nums[i]:\n",
    "        i += 1\n",
    "        continue\n",
    "    if nums[mid] == nums[j]:\n",
    "        j = j - 1\n",
    "        continue\n",
    "    if target < nums[j]:\n",
    "        i = mid\n",
    "    if target > nums[i]:\n",
    "        j = mid\n",
    "    if j - i == 1:\n",
    "        print(\"end\")\n",
    "        print(i)\n",
    "        break\n",
    "(i,j,mid)"
   ]
  },
  {
   "cell_type": "code",
   "execution_count": null,
   "metadata": {
    "collapsed": true
   },
   "outputs": [],
   "source": []
  }
 ],
 "metadata": {
  "kernelspec": {
   "display_name": "Python 3",
   "language": "python",
   "name": "python3"
  },
  "language_info": {
   "codemirror_mode": {
    "name": "ipython",
    "version": 3
   },
   "file_extension": ".py",
   "mimetype": "text/x-python",
   "name": "python",
   "nbconvert_exporter": "python",
   "pygments_lexer": "ipython3",
   "version": "3.6.0"
  }
 },
 "nbformat": 4,
 "nbformat_minor": 2
}
