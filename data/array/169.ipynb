{
 "cells": [
  {
   "cell_type": "code",
   "execution_count": 8,
   "metadata": {
    "collapsed": false
   },
   "outputs": [
    {
     "data": {
      "text/plain": [
       "0"
      ]
     },
     "execution_count": 8,
     "metadata": {},
     "output_type": "execute_result"
    }
   ],
   "source": [
    "nums = [1,2,3,4,2,3,2,3,4,5,6,3,3,4,4,4,4,3,3,3,4,4,4,4,4,4,4,4,3,3,3,3]\n",
    "def marj(nums):\n",
    "    D = {}\n",
    "    for i in nums:\n",
    "        if i not in D:\n",
    "            D[i] = 1\n",
    "        else:\n",
    "            D[i] += 1\n",
    "        if D[i] >= len(nums)/2:\n",
    "            return i\n",
    "    return 0\n",
    "marj(nums)\n"
   ]
  },
  {
   "cell_type": "code",
   "execution_count": null,
   "metadata": {
    "collapsed": true
   },
   "outputs": [],
   "source": []
  }
 ],
 "metadata": {
  "kernelspec": {
   "display_name": "Python 3",
   "language": "python",
   "name": "python3"
  },
  "language_info": {
   "codemirror_mode": {
    "name": "ipython",
    "version": 3
   },
   "file_extension": ".py",
   "mimetype": "text/x-python",
   "name": "python",
   "nbconvert_exporter": "python",
   "pygments_lexer": "ipython3",
   "version": "3.6.0"
  }
 },
 "nbformat": 4,
 "nbformat_minor": 2
}
