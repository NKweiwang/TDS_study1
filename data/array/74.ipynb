{
 "cells": [
  {
   "cell_type": "code",
   "execution_count": 15,
   "metadata": {
    "collapsed": false
   },
   "outputs": [],
   "source": [
    "nums = [\n",
    "  [1,   3,  5,  7],\n",
    "  [10, 11, 16, 20],\n",
    "  [23, 30, 34, 50]\n",
    "]\n",
    "\n",
    "def bsearch(array,target):\n",
    "    i = 0\n",
    "    j = len(array)-1\n",
    "    if target == array[j]:\n",
    "        return j\n",
    "    if target > array[j]:\n",
    "        return j\n",
    "    while i < j:\n",
    "        mid = round((i+j)/2)\n",
    "        if array[mid] == target:\n",
    "            return mid\n",
    "        elif array[mid] < target:\n",
    "            i = mid\n",
    "        else:\n",
    "            j = mid\n",
    "        if j - i == 1:\n",
    "            return i\n",
    "rowindex = bsearch([nums[i][0] for i in range(len(nums))],6)\n",
    "colindex = bsearch(nums)"
   ]
  },
  {
   "cell_type": "code",
   "execution_count": null,
   "metadata": {
    "collapsed": true
   },
   "outputs": [],
   "source": []
  }
 ],
 "metadata": {
  "kernelspec": {
   "display_name": "Python 3",
   "language": "python",
   "name": "python3"
  },
  "language_info": {
   "codemirror_mode": {
    "name": "ipython",
    "version": 3
   },
   "file_extension": ".py",
   "mimetype": "text/x-python",
   "name": "python",
   "nbconvert_exporter": "python",
   "pygments_lexer": "ipython3",
   "version": "3.6.0"
  }
 },
 "nbformat": 4,
 "nbformat_minor": 2
}
