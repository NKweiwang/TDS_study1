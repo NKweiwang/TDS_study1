{
 "cells": [
  {
   "cell_type": "code",
   "execution_count": 12,
   "metadata": {
    "collapsed": false
   },
   "outputs": [
    {
     "data": {
      "text/plain": [
       "['0->2', '4->5', '7', '10->11', '13']"
      ]
     },
     "execution_count": 12,
     "metadata": {},
     "output_type": "execute_result"
    }
   ],
   "source": [
    "nums = [0,1,2,4,5,7,10,11,13]\n",
    "\n",
    "res = []\n",
    "crt = [nums[0]]\n",
    "for i in range(1,len(nums)):\n",
    "    if nums[i] - nums[i-1] >1:\n",
    "        if len(crt)==2:\n",
    "            add = str(crt[0]) + '->'+ str(crt[1])\n",
    "        else:\n",
    "            add = str(crt[0])\n",
    "        res.append(add)\n",
    "        crt = [nums[i]]\n",
    "    if nums[i] - nums[i-1] ==1:\n",
    "        if len(crt) == 1:\n",
    "            crt = crt + [nums[i]]\n",
    "        else:\n",
    "            crt[1] = nums[i]\n",
    "if len(crt)==2:\n",
    "    add = str(crt[0]) + '->'+ str(crt[1])\n",
    "else:\n",
    "    add = str(crt[0])\n",
    "res.append(add)\n",
    "res"
   ]
  },
  {
   "cell_type": "code",
   "execution_count": 11,
   "metadata": {
    "collapsed": false
   },
   "outputs": [
    {
     "data": {
      "text/plain": [
       "'1->2'"
      ]
     },
     "execution_count": 11,
     "metadata": {},
     "output_type": "execute_result"
    }
   ],
   "source": [
    "crt = [1,2]\n",
    "str(crt[0]) + '->'+ str(crt[1])"
   ]
  }
 ],
 "metadata": {
  "kernelspec": {
   "display_name": "Python 3",
   "language": "python",
   "name": "python3"
  },
  "language_info": {
   "codemirror_mode": {
    "name": "ipython",
    "version": 3
   },
   "file_extension": ".py",
   "mimetype": "text/x-python",
   "name": "python",
   "nbconvert_exporter": "python",
   "pygments_lexer": "ipython3",
   "version": "3.6.0"
  }
 },
 "nbformat": 4,
 "nbformat_minor": 2
}
