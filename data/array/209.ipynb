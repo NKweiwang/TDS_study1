{
 "cells": [
  {
   "cell_type": "code",
   "execution_count": 35,
   "metadata": {
    "collapsed": false,
    "deletable": true,
    "editable": true
   },
   "outputs": [
    {
     "name": "stdout",
     "output_type": "stream",
     "text": [
      "6 0\n"
     ]
    }
   ],
   "source": [
    "nums = [1,2,3,4,5]\n",
    "\n",
    "target = 11\n",
    "crtsum = 0\n",
    "prelen = len(nums) + 1\n",
    "crtlen = 0\n",
    "start = 0\n",
    "end = 0\n",
    "for i in range(len(nums)):\n",
    "    crtsum += nums[i]\n",
    "    #print(crtlen)\n",
    "    #print(crtsum,'sum')\n",
    "    if crtsum == target:\n",
    "        crtlen = end - start +1\n",
    "        #print(start,end,'touch')\n",
    "        prelen = min(crtlen,prelen)\n",
    "        start += 1\n",
    "        end += 1\n",
    "        if end >= len(nums):\n",
    "            break\n",
    "    elif crtsum >target :\n",
    "        while crtsum > target and start < end:\n",
    "            crtsum = crtsum - nums[start]\n",
    "            start = start+1\n",
    "        if crtsum == target:\n",
    "            crtlen = end - start +1\n",
    "            prelen = min(crtlen,prelen)\n",
    "            #print(\"touch\",start,end)\n",
    "        end +=1\n",
    "        #print('exceed',crtsum)\n",
    "    else:\n",
    "        end += 1\n",
    "    #print(\"ij\",start,end)\n",
    "print(prelen,crtlen)\n",
    "        \n",
    "        "
   ]
  }
 ],
 "metadata": {
  "kernelspec": {
   "display_name": "Python 3",
   "language": "python",
   "name": "python3"
  },
  "language_info": {
   "codemirror_mode": {
    "name": "ipython",
    "version": 3
   },
   "file_extension": ".py",
   "mimetype": "text/x-python",
   "name": "python",
   "nbconvert_exporter": "python",
   "pygments_lexer": "ipython3",
   "version": "3.6.0"
  }
 },
 "nbformat": 4,
 "nbformat_minor": 2
}
