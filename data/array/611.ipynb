{
 "cells": [
  {
   "cell_type": "code",
   "execution_count": 10,
   "metadata": {
    "collapsed": false,
    "deletable": true,
    "editable": true
   },
   "outputs": [
    {
     "data": {
      "text/plain": [
       "[[2, 2, 3], [2, 3, 4], [2, 3, 4]]"
      ]
     },
     "execution_count": 10,
     "metadata": {},
     "output_type": "execute_result"
    }
   ],
   "source": [
    "nums = [2,2,3,4]\n",
    "\n",
    "\n",
    "def checkT(array):\n",
    "    for i in range(len(array)):\n",
    "        newarray = [array[j] for j in range(3) if j != i]\n",
    "        if sum(newarray) <= array[i]:\n",
    "            return 0\n",
    "        if abs(newarray[0] - newarray[1]) >= array[i]:\n",
    "            return 0\n",
    "    return 1\n",
    "\n",
    "def findT(nums,i,candi,res):\n",
    "        if len(candi)>3:\n",
    "            return\n",
    "        if len(candi) == 3:\n",
    "            check = checkT(candi)\n",
    "            if check ==1:\n",
    "                res.append(candi)\n",
    "                return\n",
    "        for ii in range(i+1,len(nums)):\n",
    "            findT(nums,ii,candi + [nums[ii]],res)\n",
    "res = []\n",
    "findT(nums,-1,[],res)   \n",
    "res\n"
   ]
  }
 ],
 "metadata": {
  "kernelspec": {
   "display_name": "Python 3",
   "language": "python",
   "name": "python3"
  },
  "language_info": {
   "codemirror_mode": {
    "name": "ipython",
    "version": 3
   },
   "file_extension": ".py",
   "mimetype": "text/x-python",
   "name": "python",
   "nbconvert_exporter": "python",
   "pygments_lexer": "ipython3",
   "version": "3.6.0"
  }
 },
 "nbformat": 4,
 "nbformat_minor": 2
}
