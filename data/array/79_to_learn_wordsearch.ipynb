{
 "cells": [
  {
   "cell_type": "code",
   "execution_count": 12,
   "metadata": {
    "collapsed": false,
    "deletable": true,
    "editable": true
   },
   "outputs": [
    {
     "name": "stdout",
     "output_type": "stream",
     "text": [
      "add\n",
      "[]\n",
      "[(0, 0)]\n",
      "add\n",
      "[(0, 0)]\n",
      "[(0, 0), (1, 0)]\n",
      "add\n",
      "[(0, 0), (1, 0)]\n",
      "[(0, 0), (1, 0), (1, 1)]\n",
      "add\n",
      "[(0, 0), (1, 0), (1, 1)]\n",
      "[(0, 0), (1, 0), (1, 1), (1, 2)]\n",
      "add\n",
      "[(0, 0), (1, 0), (1, 1), (1, 2)]\n",
      "[(0, 0), (1, 0), (1, 1), (1, 2), (2, 2)]\n",
      "touch\n"
     ]
    },
    {
     "data": {
      "text/plain": [
       "[(0, 0), (1, 0), (1, 1), (1, 2), (2, 2), (2, 1)]"
      ]
     },
     "execution_count": 12,
     "metadata": {},
     "output_type": "execute_result"
    }
   ],
   "source": [
    "nums = [\n",
    "  ['A','B','C','E'],\n",
    "  ['S','F','C','S'],\n",
    "  ['A','D','E','E']\n",
    "]\n",
    "\n",
    "# my result\n",
    "def DFs(nums,target,i,j,path):\n",
    "    if len(target) ==1 and nums[i][j]==target:\n",
    "        print('touch')\n",
    "        path.append((i,j))\n",
    "        return \n",
    "    if nums[i][j] != target[0]:\n",
    "        return \n",
    "    else:\n",
    "        print('add')\n",
    "        print(path)\n",
    "        path.append((i,j))\n",
    "        print(path)\n",
    "    candidates = [(i,j+1),(i,j-1),(i+1,j),(i-1,j)]\n",
    "    for index in candidates:\n",
    "        #print(path)\n",
    "        if index[0] < 0 or index[0]>= len(nums):\n",
    "            continue\n",
    "        elif index[1] < 0 or index[1]>= len(nums[0]):\n",
    "            continue\n",
    "        if index in path:\n",
    "            continue\n",
    "        else:\n",
    "            DFs(nums,target[1:],index[0],index[1],path)\n",
    "\n",
    "path = []\n",
    "DFs(nums,'ASFCED',0,0,path)\n",
    "path"
   ]
  },
  {
   "cell_type": "code",
   "execution_count": 10,
   "metadata": {
    "collapsed": false,
    "deletable": true,
    "editable": true
   },
   "outputs": [
    {
     "data": {
      "text/plain": [
       "[(1, 3)]"
      ]
     },
     "execution_count": 10,
     "metadata": {},
     "output_type": "execute_result"
    }
   ],
   "source": [
    "path= []\n",
    "def modi(path,i,j):\n",
    "    path = path.append((i,j))\n",
    "    return\n",
    "modi(path,1,3)\n",
    "path\n"
   ]
  }
 ],
 "metadata": {
  "kernelspec": {
   "display_name": "Python 3",
   "language": "python",
   "name": "python3"
  },
  "language_info": {
   "codemirror_mode": {
    "name": "ipython",
    "version": 3
   },
   "file_extension": ".py",
   "mimetype": "text/x-python",
   "name": "python",
   "nbconvert_exporter": "python",
   "pygments_lexer": "ipython3",
   "version": "3.6.0"
  }
 },
 "nbformat": 4,
 "nbformat_minor": 2
}
