{
 "cells": [
  {
   "cell_type": "code",
   "execution_count": 12,
   "metadata": {
    "collapsed": false
   },
   "outputs": [
    {
     "name": "stdout",
     "output_type": "stream",
     "text": [
      "0 7\n",
      "1 4\n",
      "2 4\n",
      "3 4\n",
      "4 5\n",
      "5 6\n",
      "6 10\n",
      "7 10\n",
      "8 15\n",
      "yes\n"
     ]
    }
   ],
   "source": [
    "nums = [6,2,1,0,0,0,3,2,6]\n",
    "max_p = 2\n",
    "i = 0\n",
    "while max_p > i and i < len(nums):\n",
    "    print(i,i + nums[i] + 1)\n",
    "    max_p = max(max_p, i + nums[i]+1)\n",
    "    i += 1\n",
    "if max_p >= len(nums)+1:\n",
    "    print(\"yes\")\n"
   ]
  },
  {
   "cell_type": "code",
   "execution_count": null,
   "metadata": {
    "collapsed": true
   },
   "outputs": [],
   "source": []
  }
 ],
 "metadata": {
  "kernelspec": {
   "display_name": "Python 3",
   "language": "python",
   "name": "python3"
  },
  "language_info": {
   "codemirror_mode": {
    "name": "ipython",
    "version": 3
   },
   "file_extension": ".py",
   "mimetype": "text/x-python",
   "name": "python",
   "nbconvert_exporter": "python",
   "pygments_lexer": "ipython3",
   "version": "3.6.0"
  }
 },
 "nbformat": 4,
 "nbformat_minor": 2
}
