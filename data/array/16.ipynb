{
 "cells": [
  {
   "cell_type": "code",
   "execution_count": 91,
   "metadata": {
    "collapsed": false
   },
   "outputs": [
    {
     "name": "stdout",
     "output_type": "stream",
     "text": [
      "if\n",
      "if\n",
      "if\n"
     ]
    },
    {
     "data": {
      "text/plain": [
       "0"
      ]
     },
     "execution_count": 91,
     "metadata": {},
     "output_type": "execute_result"
    }
   ],
   "source": [
    "def twosum(nums, k):\n",
    "    nums.sort()\n",
    "    res = 0\n",
    "    i = 0\n",
    "    j = len(nums)-1\n",
    "    min_dif = abs((nums[j] + nums[i]) - k)\n",
    "    crt_dif = min_dif\n",
    "    while i < j:\n",
    "        if (nums[j] + nums[i]) - k > 0:\n",
    "            j = j-1\n",
    "            print(\"if\")\n",
    "            # break\n",
    "            if abs((nums[j] + nums[i]) - k) >= crt_dif:\n",
    "                    j = j + 1\n",
    "                    i = i + 1\n",
    "        elif (nums[j] + nums[i]) - k < 0:\n",
    "            i = i+1\n",
    "            print(\"elif\")\n",
    "            # break\n",
    "            if abs((nums[j] + nums[i]) - k) >= crt_dif:\n",
    "                i = i - 1\n",
    "                j = j - 1\n",
    "                #print(i,j)\n",
    "                # break\n",
    "        crt_dif = abs((nums[j] + nums[i]) - k)\n",
    "        crt_res = (nums[j] + nums[i]) - k\n",
    "        if crt_dif < min_dif:\n",
    "            min_dif = crt_dif\n",
    "            res = crt_res\n",
    "        if min_dif ==0:\n",
    "            break\n",
    "    return res\n",
    "nums = [1,2,4,5]\n",
    "k = 2\n",
    "twosum(nums,k)"
   ]
  },
  {
   "cell_type": "code",
   "execution_count": 83,
   "metadata": {
    "collapsed": false
   },
   "outputs": [
    {
     "name": "stdout",
     "output_type": "stream",
     "text": [
      "1\n",
      "1\n",
      "1\n"
     ]
    },
    {
     "data": {
      "text/plain": [
       "1"
      ]
     },
     "execution_count": 83,
     "metadata": {},
     "output_type": "execute_result"
    }
   ],
   "source": [
    "def threesum(nums,k):\n",
    "    #max_e = abs(max(nums))\n",
    "    #res = 0\n",
    "    for i in range(len(nums)):\n",
    "        min_res = sum(nums[0:3])\n",
    "        epsilon = twosum(nums[0:i]+nums[(i+1):],k - nums[i])\n",
    "        res = k + epsilon\n",
    "        print(res)\n",
    "        if abs(res - k) < abs(min_res - k):\n",
    "            min_res = res\n",
    "    return min_res\n",
    "nums = [0,0,0]\n",
    "k = 1\n",
    "threesum(nums,k)\n",
    "#i = 1\n",
    "#twosum(nums[0:i]+nums[(i+1):],k - nums[i])\n",
    "#nums[0:i]+nums[(i+1):]"
   ]
  },
  {
   "cell_type": "code",
   "execution_count": null,
   "metadata": {
    "collapsed": true
   },
   "outputs": [],
   "source": [
    "class Solution:\n",
    "    # @return an integer\n",
    "    def threeSumClosest(self, num, target):\n",
    "        num.sort()\n",
    "        result = num[0] + num[1] + num[2]\n",
    "        for i in range(len(num) - 2):\n",
    "            j, k = i+1, len(num) - 1\n",
    "            while j < k:\n",
    "                sum = num[i] + num[j] + num[k]\n",
    "                if sum == target:\n",
    "                    return sum\n",
    "                \n",
    "                if abs(sum - target) < abs(result - target):\n",
    "                    result = sum\n",
    "                \n",
    "                if sum < target:\n",
    "                    j += 1\n",
    "                elif sum > target:\n",
    "                    k -= 1\n",
    "            \n",
    "        return result"
   ]
  }
 ],
 "metadata": {
  "kernelspec": {
   "display_name": "Python 3",
   "language": "python",
   "name": "python3"
  },
  "language_info": {
   "codemirror_mode": {
    "name": "ipython",
    "version": 3
   },
   "file_extension": ".py",
   "mimetype": "text/x-python",
   "name": "python",
   "nbconvert_exporter": "python",
   "pygments_lexer": "ipython3",
   "version": "3.6.0"
  }
 },
 "nbformat": 4,
 "nbformat_minor": 2
}
