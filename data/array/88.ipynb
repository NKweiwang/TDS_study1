{
 "cells": [
  {
   "cell_type": "code",
   "execution_count": 76,
   "metadata": {
    "collapsed": false
   },
   "outputs": [
    {
     "data": {
      "text/plain": [
       "([1, 2, 3, 3, 4, 6, 6, 8, 8, 9, 77, 99, 99], 5, 7)"
      ]
     },
     "execution_count": 76,
     "metadata": {},
     "output_type": "execute_result"
    }
   ],
   "source": [
    "nums1 = [1,3,6,8,9,99]\n",
    "nums2 = [2,3,4,6,8,77,99]\n",
    "m = 7\n",
    "n = 7\n",
    "def merge1(nums_1,m,nums_2,n):\n",
    "    new_nums = []\n",
    "    i_1 = 0\n",
    "    i_2 = 0\n",
    "    while i_1 < m:\n",
    "        if nums_1[i_1]< nums_2[i_2]:\n",
    "            new_nums.append(nums_1[i_1])\n",
    "            i_1 = i_1 + 1\n",
    "            #if i_1 == m and nums_1[-1] > nums_2[i_2]:\n",
    "        else:\n",
    "            new_nums.append(nums_2[i_2])\n",
    "            i_2 = i_2 + 1\n",
    "            if i_2 ==n:\n",
    "                break\n",
    "            i_2 = min(i_2,n-1)\n",
    "    if i_1 < m:\n",
    "        new_nums = new_nums + nums_1[i_1 : ]\n",
    "    if i_2 < n:\n",
    "        new_nums = new_nums + nums_2[i_2 : ]\n",
    "    return(new_nums,i_1,i_2)\n",
    "def merge2(nums1,m,nums2,n):\n",
    "    if m > n:\n",
    "        return merge1(nums2,n,nums1,m)\n",
    "    else:\n",
    "        return merge1(nums1,m,nums2,n)\n",
    "merge1(nums1,m,nums2,n)"
   ]
  },
  {
   "cell_type": "code",
   "execution_count": null,
   "metadata": {
    "collapsed": true
   },
   "outputs": [],
   "source": []
  }
 ],
 "metadata": {
  "kernelspec": {
   "display_name": "Python 3",
   "language": "python",
   "name": "python3"
  },
  "language_info": {
   "codemirror_mode": {
    "name": "ipython",
    "version": 3
   },
   "file_extension": ".py",
   "mimetype": "text/x-python",
   "name": "python",
   "nbconvert_exporter": "python",
   "pygments_lexer": "ipython3",
   "version": "3.6.0"
  }
 },
 "nbformat": 4,
 "nbformat_minor": 2
}
