{
 "cells": [
  {
   "cell_type": "code",
   "execution_count": 12,
   "metadata": {
    "collapsed": false
   },
   "outputs": [
    {
     "data": {
      "text/plain": [
       "[5, 6]"
      ]
     },
     "execution_count": 12,
     "metadata": {},
     "output_type": "execute_result"
    }
   ],
   "source": [
    "nums = [4,3,2,7,8,2,3,1]\n",
    "def mutate(nums,i):\n",
    "    k = nums[i]\n",
    "    while k != nums[k-1]:\n",
    "        nums[k-1],k = k,nums[k-1]\n",
    "\n",
    "def Mutate(nums):\n",
    "    for i in range(len(nums)):\n",
    "        mutate(nums,i)\n",
    "    zeros = []\n",
    "    for i in range(len(nums)):\n",
    "        if nums[i] != i+1:\n",
    "            zeros.append(i+1)\n",
    "    return zeros\n",
    "Mutate(nums)"
   ]
  },
  {
   "cell_type": "code",
   "execution_count": null,
   "metadata": {
    "collapsed": true
   },
   "outputs": [],
   "source": []
  }
 ],
 "metadata": {
  "kernelspec": {
   "display_name": "Python 3",
   "language": "python",
   "name": "python3"
  },
  "language_info": {
   "codemirror_mode": {
    "name": "ipython",
    "version": 3
   },
   "file_extension": ".py",
   "mimetype": "text/x-python",
   "name": "python",
   "nbconvert_exporter": "python",
   "pygments_lexer": "ipython3",
   "version": "3.6.0"
  }
 },
 "nbformat": 4,
 "nbformat_minor": 2
}
