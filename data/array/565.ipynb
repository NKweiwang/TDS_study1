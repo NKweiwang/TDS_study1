{
 "cells": [
  {
   "cell_type": "code",
   "execution_count": 12,
   "metadata": {
    "collapsed": false
   },
   "outputs": [
    {
     "data": {
      "text/plain": [
       "([0, 1, 2, 3, 4, 5, 6], 4)"
      ]
     },
     "execution_count": 12,
     "metadata": {},
     "output_type": "execute_result"
    }
   ],
   "source": [
    "nums = [5,4,0,3,1,6,2]\n",
    "#nums = [1,0,2]\n",
    "maxlen = 0\n",
    "crtlen = 0\n",
    "\n",
    "for i in range(len(nums)):\n",
    "    if nums[i] ==i:\n",
    "        crtlen = 1\n",
    "        maxlen = max(maxlen,crtlen)\n",
    "        continue\n",
    "    crt = nums[i]\n",
    "    go = nums[crt]\n",
    "    nums[crt] = crt\n",
    "    crtlen = 1\n",
    "    while nums[go] != go:\n",
    "        crt = nums[go]\n",
    "        nums[go] = go\n",
    "        go = crt\n",
    "        crtlen += 1\n",
    "        maxlen = max(maxlen,crtlen)\n",
    "nums,maxlen"
   ]
  }
 ],
 "metadata": {
  "kernelspec": {
   "display_name": "Python 3",
   "language": "python",
   "name": "python3"
  },
  "language_info": {
   "codemirror_mode": {
    "name": "ipython",
    "version": 3
   },
   "file_extension": ".py",
   "mimetype": "text/x-python",
   "name": "python",
   "nbconvert_exporter": "python",
   "pygments_lexer": "ipython3",
   "version": "3.6.0"
  }
 },
 "nbformat": 4,
 "nbformat_minor": 2
}
