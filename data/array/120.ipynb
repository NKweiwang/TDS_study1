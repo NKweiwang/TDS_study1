{
 "cells": [
  {
   "cell_type": "code",
   "execution_count": 36,
   "metadata": {
    "collapsed": false,
    "deletable": true,
    "editable": true
   },
   "outputs": [
    {
     "name": "stdout",
     "output_type": "stream",
     "text": [
      "[[4], [5, 7], [1, 8, 3]]\n",
      "[[7], [8, 3]]\n",
      "[[3]]\n",
      "line 3 16\n",
      "line 8 21\n",
      "16 21 8 3\n",
      "[[8]]\n",
      "line 8 19\n",
      "line 1 12\n",
      "19 12 1 8\n",
      "16 12 5 7\n",
      "[[5], [1, 8]]\n",
      "[[8]]\n",
      "line 8 18\n",
      "line 1 11\n",
      "18 11 1 8\n",
      "[[1]]\n",
      "line 1 12\n",
      "line 4 15\n",
      "12 15 4 1\n",
      "11 12 6 5\n",
      "12 11 3 4\n"
     ]
    },
    {
     "data": {
      "text/plain": [
       "11"
      ]
     },
     "execution_count": 36,
     "metadata": {},
     "output_type": "execute_result"
    }
   ],
   "source": [
    "nums = [\n",
    "     [2],\n",
    "    [3,4],\n",
    "   [6,5,7],\n",
    "  [4,1,8,3] #,\n",
    " #[9,9,1,9,1]\n",
    "]\n",
    "\n",
    "\n",
    "def semi(nums,crtsum):\n",
    "    crtsum = crtsum + nums[0][0]\n",
    "    if len(nums)==1:\n",
    "        print('line',nums[0][0],crtsum)\n",
    "        return crtsum\n",
    "    else:\n",
    "        crtsum_1 = semi([[nums[i][elm] for elm in range(1,len(nums[i]))] for i in range(1,len(nums)) ],crtsum)\n",
    "        crtsum_2 = semi([[nums[i][elm] for elm in range(len(nums[i])-1)] for i in range(1,len(nums)) ],crtsum)\n",
    "        crtsum = min(crtsum_1,crtsum_2)\n",
    "        return crtsum\n",
    "semi(nums,0)\n",
    "# [[nums[i][elm] for elm in range(1,len(nums[i]))] for i in range(1,len(nums)) ]\n",
    "# [[nums[i][elm] for elm in range(len(nums[i])-1)] for i in range(1,len(nums)) ]"
   ]
  },
  {
   "cell_type": "code",
   "execution_count": 24,
   "metadata": {
    "collapsed": false
   },
   "outputs": [
    {
     "data": {
      "text/plain": [
       "[[4]]"
      ]
     },
     "execution_count": 24,
     "metadata": {},
     "output_type": "execute_result"
    }
   ],
   "source": [
    "nums = [\n",
    "     [2],\n",
    "    [3,4]\n",
    "]\n",
    "[[nums[i][elm] for elm in range(1,len(nums[i]))] for i in range(1,len(nums)) ]"
   ]
  }
 ],
 "metadata": {
  "kernelspec": {
   "display_name": "Python 3",
   "language": "python",
   "name": "python3"
  },
  "language_info": {
   "codemirror_mode": {
    "name": "ipython",
    "version": 3
   },
   "file_extension": ".py",
   "mimetype": "text/x-python",
   "name": "python",
   "nbconvert_exporter": "python",
   "pygments_lexer": "ipython3",
   "version": "3.6.0"
  }
 },
 "nbformat": 4,
 "nbformat_minor": 2
}
