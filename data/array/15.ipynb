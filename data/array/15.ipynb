{
 "cells": [
  {
   "cell_type": "code",
   "execution_count": 24,
   "metadata": {
    "collapsed": false
   },
   "outputs": [
    {
     "data": {
      "text/plain": [
       "[[[[1, 0]]], [[[1, -1]]], [[[0, -1]]], [[[-1, -1]]], [[[1, 0]]], [[]]]"
      ]
     },
     "execution_count": 24,
     "metadata": {},
     "output_type": "execute_result"
    }
   ],
   "source": [
    "def twosum(nums,k):\n",
    "    D = {}\n",
    "    total = []\n",
    "    for t in range(len(nums)):\n",
    "        if nums[t] in D:\n",
    "            total.append([nums[t],k-nums[t]])\n",
    "            break\n",
    "        else:\n",
    "            D[k-nums[t]] = nums[t]\n",
    "    return total\n",
    "def threesum(nums):\n",
    "    res = []\n",
    "    for i in range(len(nums)):\n",
    "        crt = nums[0:i]+nums[(i+1):]\n",
    "        res_crt = twosum(crt,(-nums[i]))\n",
    "        if len(res_crt) != 0:\n",
    "            # res_crt.append(nums[i])\n",
    "            res.append(res_crt)\n",
    "    return res\n",
    "S = [-1, 0, 1, 2, -1, -4]\n",
    "threesum(S)"
   ]
  },
  {
   "cell_type": "code",
   "execution_count": 45,
   "metadata": {
    "collapsed": false
   },
   "outputs": [
    {
     "name": "stdout",
     "output_type": "stream",
     "text": [
      "[[1, 0]]\n",
      "[1, 0, -1]\n",
      "[[1, -1]]\n",
      "[1, -1, 0]\n",
      "[[0, -1]]\n",
      "[0, -1, 1]\n",
      "[[-1, -1]]\n",
      "[-1, -1, 2]\n",
      "[[1, 0]]\n",
      "[1, 0, -1]\n",
      "[]\n"
     ]
    },
    {
     "data": {
      "text/plain": [
       "[[-1, 0, 1], [-1, -1, 2]]"
      ]
     },
     "execution_count": 45,
     "metadata": {},
     "output_type": "execute_result"
    }
   ],
   "source": [
    "nums = S\n",
    "res = []\n",
    "for i in range(len(nums)):\n",
    "    crt = nums[0:i]+nums[(i+1):]\n",
    "    res_crt = twosum(crt,(-nums[i]))\n",
    "    res_c = []\n",
    "    print(res_crt)\n",
    "    if len(res_crt) != 0:\n",
    "        res_c = res_crt[0]\n",
    "        res_c.append(nums[i])\n",
    "        print(res_c)\n",
    "        res_c.sort()\n",
    "        if res_c not in res:\n",
    "            res.append(res_c)\n",
    "\n",
    "res   "
   ]
  },
  {
   "cell_type": "code",
   "execution_count": 35,
   "metadata": {
    "collapsed": false
   },
   "outputs": [
    {
     "data": {
      "text/plain": [
       "{(0, 1, -1), (1, 0, -1)}"
      ]
     },
     "execution_count": 35,
     "metadata": {},
     "output_type": "execute_result"
    }
   ],
   "source": [
    "res = [(1,0,-1),(0,1,-1)]\n",
    "set(res)"
   ]
  }
 ],
 "metadata": {
  "kernelspec": {
   "display_name": "Python 3",
   "language": "python",
   "name": "python3"
  },
  "language_info": {
   "codemirror_mode": {
    "name": "ipython",
    "version": 3
   },
   "file_extension": ".py",
   "mimetype": "text/x-python",
   "name": "python",
   "nbconvert_exporter": "python",
   "pygments_lexer": "ipython3",
   "version": "3.6.0"
  }
 },
 "nbformat": 4,
 "nbformat_minor": 2
}
