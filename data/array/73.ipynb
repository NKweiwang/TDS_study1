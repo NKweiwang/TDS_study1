{
 "cells": [
  {
   "cell_type": "code",
   "execution_count": 26,
   "metadata": {
    "collapsed": false
   },
   "outputs": [
    {
     "data": {
      "text/plain": [
       "[[0, 1, 0, 0, 1], [2, 4, 6, 7, 2], [0, 3, 6, 8, 3], [0, 3, 6, 0, 4]]"
      ]
     },
     "execution_count": 26,
     "metadata": {},
     "output_type": "execute_result"
    }
   ],
   "source": [
    "nums = [\n",
    "    [2,1,0,1,1],\n",
    "    [2,4,6,7,2],\n",
    "    [0,3,6,8,3],\n",
    "    [5,3,6,0,4]\n",
    "]\n",
    "\n",
    "for i in range(len(nums)):\n",
    "    for j in range(len(nums[0])):\n",
    "        if nums[i][j] == 0:\n",
    "            nums[i][0] = 0\n",
    "for j in range(len(nums[0])):\n",
    "    for i in range(len(nums)):\n",
    "        if nums[i][j] == 0:\n",
    "            nums[0][j] = 0\n",
    "        \n",
    "# in this case we know that all the index are in the first col and row\n"
   ]
  },
  {
   "cell_type": "code",
   "execution_count": null,
   "metadata": {
    "collapsed": true
   },
   "outputs": [],
   "source": []
  }
 ],
 "metadata": {
  "kernelspec": {
   "display_name": "Python 3",
   "language": "python",
   "name": "python3"
  },
  "language_info": {
   "codemirror_mode": {
    "name": "ipython",
    "version": 3
   },
   "file_extension": ".py",
   "mimetype": "text/x-python",
   "name": "python",
   "nbconvert_exporter": "python",
   "pygments_lexer": "ipython3",
   "version": "3.6.0"
  }
 },
 "nbformat": 4,
 "nbformat_minor": 2
}
