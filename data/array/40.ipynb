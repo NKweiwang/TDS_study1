{
 "cells": [
  {
   "cell_type": "code",
   "execution_count": 45,
   "metadata": {
    "collapsed": false
   },
   "outputs": [
    {
     "name": "stdout",
     "output_type": "stream",
     "text": [
      "[0, 1, 1, 1, 2, 5, 6, 7, 8, 10]\n"
     ]
    },
    {
     "data": {
      "text/plain": [
       "[[1, 1, 1, 5],\n",
       " [1, 1, 6],\n",
       " [1, 1, 6],\n",
       " [1, 2, 5],\n",
       " [1, 7],\n",
       " [1, 1, 6],\n",
       " [1, 2, 5],\n",
       " [1, 7],\n",
       " [1, 2, 5],\n",
       " [1, 7],\n",
       " [2, 6],\n",
       " [8]]"
      ]
     },
     "execution_count": 45,
     "metadata": {},
     "output_type": "execute_result"
    }
   ],
   "source": [
    "nums = [10, 1, 2, 7, 6, 1, 1,5,8,0]\n",
    "nums.sort()\n",
    "print(nums)\n",
    "target = 8\n",
    "result = []\n",
    "results = []\n",
    "\n",
    "def unit1(nums,target,i,result,results):\n",
    "    #print(result)\n",
    "    if target < 0: return\n",
    "    if target ==0:\n",
    "        results.append(result)\n",
    "        return\n",
    "    if target > 0:\n",
    "        for j in range(min(i+1,len(nums)),len(nums)):\n",
    "            unit1(nums,target - nums[j],j,result+[nums[j]],results)\n",
    "unit1(nums,target,0,result,results)\n",
    "results"
   ]
  },
  {
   "cell_type": "code",
   "execution_count": 49,
   "metadata": {
    "collapsed": false
   },
   "outputs": [
    {
     "name": "stdout",
     "output_type": "stream",
     "text": [
      "[None, set(), set(), set(), set(), set(), set(), set(), set()]\n",
      "1 7\n",
      "1 6\n",
      "1 5\n",
      "1 4\n",
      "1 3\n",
      "1 2\n",
      "1 1\n",
      "[None, {(1,)}, {(1, 1)}, set(), set(), set(), set(), set(), set()]\n",
      "1 7\n",
      "1 6\n",
      "1 5\n",
      "1 4\n",
      "1 3\n",
      "1 2\n",
      "1 1\n",
      "[None, {(1,)}, {(1, 1)}, {(1, 1, 1)}, set(), set(), set(), set(), set()]\n",
      "1 7\n",
      "1 6\n",
      "1 5\n",
      "1 4\n",
      "1 3\n",
      "1 2\n",
      "1 1\n",
      "[None, {(1,)}, {(1, 1)}, {(1, 1, 1)}, {(1, 1, 1, 1)}, set(), set(), set(), set()]\n",
      "2 6\n",
      "2 5\n",
      "2 4\n",
      "2 3\n",
      "2 2\n",
      "2 1\n",
      "[None, {(1,)}, {(2,), (1, 1)}, {(1, 2), (1, 1, 1)}, {(2, 2), (1, 1, 1, 1), (1, 1, 2)}, {(1, 1, 1, 2)}, {(1, 1, 1, 1, 2)}, set(), set()]\n",
      "5 3\n",
      "5 2\n",
      "5 1\n",
      "[None, {(1,)}, {(2,), (1, 1)}, {(1, 2), (1, 1, 1)}, {(2, 2), (1, 1, 1, 1), (1, 1, 2)}, {(5,), (1, 1, 1, 2)}, {(1, 5), (1, 1, 1, 1, 2)}, {(2, 5), (1, 1, 5)}, {(1, 1, 1, 5), (1, 2, 5)}]\n",
      "6 2\n",
      "6 1\n",
      "[None, {(1,)}, {(2,), (1, 1)}, {(1, 2), (1, 1, 1)}, {(2, 2), (1, 1, 1, 1), (1, 1, 2)}, {(5,), (1, 1, 1, 2)}, {(1, 5), (6,), (1, 1, 1, 1, 2)}, {(2, 5), (1, 6), (1, 1, 5)}, {(1, 1, 1, 5), (2, 6), (1, 1, 6), (1, 2, 5)}]\n",
      "7 1\n",
      "[None, {(1,)}, {(2,), (1, 1)}, {(1, 2), (1, 1, 1)}, {(2, 2), (1, 1, 1, 1), (1, 1, 2)}, {(5,), (1, 1, 1, 2)}, {(1, 5), (6,), (1, 1, 1, 1, 2)}, {(7,), (2, 5), (1, 6), (1, 1, 5)}, {(2, 6), (1, 1, 6), (1, 1, 1, 5), (1, 7), (1, 2, 5)}]\n",
      "[None, {(1,)}, {(2,), (1, 1)}, {(1, 2), (1, 1, 1)}, {(2, 2), (1, 1, 1, 1), (1, 1, 2)}, {(5,), (1, 1, 1, 2)}, {(1, 5), (6,), (1, 1, 1, 1, 2)}, {(7,), (2, 5), (1, 6), (1, 1, 5)}, {(2, 6), (1, 1, 6), (1, 1, 1, 5), (1, 7), (1, 2, 5)}]\n"
     ]
    },
    {
     "data": {
      "text/plain": [
       "<map at 0x1046fe860>"
      ]
     },
     "execution_count": 49,
     "metadata": {},
     "output_type": "execute_result"
    }
   ],
   "source": [
    "nums = [10, 1, 2, 7, 6, 1, 1,5,8,0]\n",
    "nums.sort()\n",
    "candidates = sorted(nums)\n",
    "candidates.pop(0)\n",
    "table = [None] + [set() for i in range(target)]\n",
    "for i in candidates:\n",
    "    print(table)\n",
    "    if i > target:\n",
    "        break\n",
    "    for j in range(target - i, 0, -1):\n",
    "        print(i,j)\n",
    "        table[i + j] |= {elt + (i,) for elt in table[j]}\n",
    "        table[i].add((i,))\n",
    "test = (map(list, table[target]))\n",
    "test"
   ]
  },
  {
   "cell_type": "code",
   "execution_count": 58,
   "metadata": {
    "collapsed": false
   },
   "outputs": [
    {
     "ename": "NameError",
     "evalue": "name 'reduce' is not defined",
     "output_type": "error",
     "traceback": [
      "\u001b[0;31m---------------------------------------------------------------------------\u001b[0m",
      "\u001b[0;31mNameError\u001b[0m                                 Traceback (most recent call last)",
      "\u001b[0;32m<ipython-input-58-6aea52e606ae>\u001b[0m in \u001b[0;36m<module>\u001b[0;34m()\u001b[0m\n\u001b[1;32m      1\u001b[0m \u001b[0;32mdef\u001b[0m \u001b[0mcube\u001b[0m\u001b[0;34m(\u001b[0m\u001b[0mx\u001b[0m\u001b[0;34m)\u001b[0m\u001b[0;34m:\u001b[0m \u001b[0;32mreturn\u001b[0m \u001b[0mx\u001b[0m\u001b[0;34m*\u001b[0m\u001b[0mx\u001b[0m\u001b[0;34m*\u001b[0m\u001b[0mx\u001b[0m\u001b[0;34m\u001b[0m\u001b[0m\n\u001b[0;32m----> 2\u001b[0;31m \u001b[0mlist\u001b[0m\u001b[0;34m(\u001b[0m\u001b[0mreduce\u001b[0m\u001b[0;34m(\u001b[0m\u001b[0mcube\u001b[0m\u001b[0;34m,\u001b[0m \u001b[0mrange\u001b[0m\u001b[0;34m(\u001b[0m\u001b[0;36m1\u001b[0m\u001b[0;34m,\u001b[0m \u001b[0;36m11\u001b[0m\u001b[0;34m)\u001b[0m\u001b[0;34m)\u001b[0m\u001b[0;34m)\u001b[0m\u001b[0;34m\u001b[0m\u001b[0m\n\u001b[0m",
      "\u001b[0;31mNameError\u001b[0m: name 'reduce' is not defined"
     ]
    }
   ],
   "source": [
    "def cube(x): return x*x*x\n",
    "list(reduce(cube, range(1, 11)))"
   ]
  }
 ],
 "metadata": {
  "kernelspec": {
   "display_name": "Python 3",
   "language": "python",
   "name": "python3"
  },
  "language_info": {
   "codemirror_mode": {
    "name": "ipython",
    "version": 3
   },
   "file_extension": ".py",
   "mimetype": "text/x-python",
   "name": "python",
   "nbconvert_exporter": "python",
   "pygments_lexer": "ipython3",
   "version": "3.6.0"
  }
 },
 "nbformat": 4,
 "nbformat_minor": 2
}
