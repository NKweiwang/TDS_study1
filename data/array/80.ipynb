{
 "cells": [
  {
   "cell_type": "code",
   "execution_count": 5,
   "metadata": {
    "collapsed": false
   },
   "outputs": [
    {
     "data": {
      "text/plain": [
       "[1, 1, 2, 2, 3, 3, 4, 4, 5, 6, 6]"
      ]
     },
     "execution_count": 5,
     "metadata": {},
     "output_type": "execute_result"
    }
   ],
   "source": [
    "nums = [1,1,1,2,2,3,3,3,3,3,4,4,5,6,6,6]\n",
    "\n",
    "crt_val = 0\n",
    "crt_count = 0\n",
    "i = 0\n",
    "while i < len(nums):\n",
    "    if crt_val == nums[i]:\n",
    "        crt_count +=1\n",
    "        if crt_count>2:\n",
    "            nums.pop(i)\n",
    "        else:\n",
    "            i = i+1\n",
    "    else:\n",
    "        crt_count =1\n",
    "        crt_val = nums[i]\n",
    "        i = i+1\n",
    "nums"
   ]
  }
 ],
 "metadata": {
  "kernelspec": {
   "display_name": "Python 3",
   "language": "python",
   "name": "python3"
  },
  "language_info": {
   "codemirror_mode": {
    "name": "ipython",
    "version": 3
   },
   "file_extension": ".py",
   "mimetype": "text/x-python",
   "name": "python",
   "nbconvert_exporter": "python",
   "pygments_lexer": "ipython3",
   "version": "3.6.0"
  }
 },
 "nbformat": 4,
 "nbformat_minor": 2
}
