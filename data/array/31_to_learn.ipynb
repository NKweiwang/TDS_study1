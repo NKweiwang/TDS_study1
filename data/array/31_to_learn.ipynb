{
 "cells": [
  {
   "cell_type": "code",
   "execution_count": 8,
   "metadata": {
    "collapsed": false
   },
   "outputs": [
    {
     "data": {
      "text/plain": [
       "[4, 6]"
      ]
     },
     "execution_count": 8,
     "metadata": {},
     "output_type": "execute_result"
    }
   ],
   "source": [
    "def nextPermutation(self, nums):\n",
    "        \"\"\"\n",
    "        :type nums: List[int]\n",
    "        :rtype: void Do not return anything, modify nums in-place instead.\n",
    "        \"\"\"\n",
    "        # Use two-pointers: two pointers start from back\n",
    "        # first pointer j stop at descending point\n",
    "        # second pointer i stop at value > nums[j]\n",
    "        # swap and sort rest\n",
    "        if not nums: return None\n",
    "        i = len(nums)-1\n",
    "        j = -1 # j is set to -1 for case `4321`, so need to reverse all in following step\n",
    "        while i > 0:\n",
    "            if nums[i-1] < nums[i]: # first one violates the trend\n",
    "              j = i-1\n",
    "              break\n",
    "            i-=1\n",
    "        for i in xrange(len(nums)-1, -1, -1):\n",
    "            if nums[i] > nums[j]: # \n",
    "                nums[i], nums[j] = nums[j], nums[i] # swap position\n",
    "                nums[j+1:] = sorted(nums[j+1:]) # sort rest\n",
    "                return"
   ]
  }
 ],
 "metadata": {
  "kernelspec": {
   "display_name": "Python 3",
   "language": "python",
   "name": "python3"
  },
  "language_info": {
   "codemirror_mode": {
    "name": "ipython",
    "version": 3
   },
   "file_extension": ".py",
   "mimetype": "text/x-python",
   "name": "python",
   "nbconvert_exporter": "python",
   "pygments_lexer": "ipython3",
   "version": "3.6.0"
  }
 },
 "nbformat": 4,
 "nbformat_minor": 2
}
