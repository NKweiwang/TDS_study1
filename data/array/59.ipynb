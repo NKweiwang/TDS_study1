{
 "cells": [
  {
   "cell_type": "code",
   "execution_count": 17,
   "metadata": {
    "collapsed": false
   },
   "outputs": [
    {
     "data": {
      "text/plain": [
       "[[1, 2, 3, 4, 5],\n",
       " [16, 17, 18, 19, 6],\n",
       " [15, 24, 25, 20, 7],\n",
       " [14, 23, 22, 21, 8],\n",
       " [13, 12, 11, 10, 9]]"
      ]
     },
     "execution_count": 17,
     "metadata": {},
     "output_type": "execute_result"
    }
   ],
   "source": [
    "value = 0\n",
    "n = 5\n",
    "nums = [[0 for i in range(n)] for j in range(n)]\n",
    "up = 0\n",
    "right = n - 1\n",
    "left = 0\n",
    "down = n - 1\n",
    "\n",
    "while down - up >= 1 and right - left >= 1:\n",
    "    for i in range(left,right):\n",
    "        value += 1\n",
    "        nums[up][i] = value\n",
    "    for i in range(up,down):\n",
    "        value += 1\n",
    "        nums[i][right] = value\n",
    "    for i in range(right, left, -1):\n",
    "        value += 1\n",
    "        nums[down][i] = value\n",
    "    for i in range(down,up,-1):\n",
    "        value += 1\n",
    "        nums[i][left] = value\n",
    "    up += 1\n",
    "    right -= 1\n",
    "    left += 1\n",
    "    down -= 1\n",
    "if n  %2 == 1:\n",
    "    nums[round(n/2)][round(n/2)] = n**2\n",
    "nums"
   ]
  },
  {
   "cell_type": "code",
   "execution_count": 16,
   "metadata": {
    "collapsed": false
   },
   "outputs": [
    {
     "data": {
      "text/plain": [
       "2"
      ]
     },
     "execution_count": 16,
     "metadata": {},
     "output_type": "execute_result"
    }
   ],
   "source": []
  }
 ],
 "metadata": {
  "kernelspec": {
   "display_name": "Python 3",
   "language": "python",
   "name": "python3"
  },
  "language_info": {
   "codemirror_mode": {
    "name": "ipython",
    "version": 3
   },
   "file_extension": ".py",
   "mimetype": "text/x-python",
   "name": "python",
   "nbconvert_exporter": "python",
   "pygments_lexer": "ipython3",
   "version": "3.6.0"
  }
 },
 "nbformat": 4,
 "nbformat_minor": 2
}
