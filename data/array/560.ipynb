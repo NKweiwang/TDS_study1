{
 "cells": [
  {
   "cell_type": "code",
   "execution_count": 111,
   "metadata": {
    "collapsed": false
   },
   "outputs": [
    {
     "data": {
      "text/plain": [
       "6"
      ]
     },
     "execution_count": 111,
     "metadata": {},
     "output_type": "execute_result"
    }
   ],
   "source": [
    "nums = [4,1,-1,1,-3,3,4,1]\n",
    "k = 1\n",
    "\n",
    "res = 0\n",
    "cusum = [0]\n",
    "for i in range(len(nums)):\n",
    "    cusum = cusum +  [cusum[-1]+nums[i]]\n",
    "\n",
    "start = 0\n",
    "end = len(nums)\n",
    "\n",
    "for start in range(len(nums)):\n",
    "    for end in range(start,len(nums)+1):\n",
    "        if start>= end:\n",
    "            continue\n",
    "        else:\n",
    "            diff = cusum[end] - cusum[start]\n",
    "            if diff == k:\n",
    "                #res.append([start,end])\n",
    "                res += 1\n",
    "            \n",
    "res\n"
   ]
  }
 ],
 "metadata": {
  "kernelspec": {
   "display_name": "Python 3",
   "language": "python",
   "name": "python3"
  },
  "language_info": {
   "codemirror_mode": {
    "name": "ipython",
    "version": 3
   },
   "file_extension": ".py",
   "mimetype": "text/x-python",
   "name": "python",
   "nbconvert_exporter": "python",
   "pygments_lexer": "ipython3",
   "version": "3.6.0"
  }
 },
 "nbformat": 4,
 "nbformat_minor": 2
}
