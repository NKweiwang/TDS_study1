{
 "cells": [
  {
   "cell_type": "code",
   "execution_count": 21,
   "metadata": {
    "collapsed": false
   },
   "outputs": [
    {
     "name": "stdout",
     "output_type": "stream",
     "text": [
      "[[0, -1]]\n",
      "[[0, -1], [0, 0]]\n",
      "[[0, -1], [0, 0], [0, 1]]\n",
      "[[0, -1], [0, 0], [0, 1], [0, 2]]\n",
      "touch the right\n",
      "[[0, -1], [0, 0], [0, 1], [1, 2]]\n",
      "touch the right\n",
      "[[0, -1], [0, 0], [0, 1], [2, 2]]\n",
      "[[0, -1], [0, 0], [1, 1]]\n",
      "hit\n",
      "[[0, -1], [0, 0], [2, 1]]\n",
      "[[0, -1], [0, 0], [2, 1], [2, 2]]\n",
      "touch the bottom\n",
      "[[0, -1], [1, 0]]\n",
      "[[0, -1], [1, 0], [1, 1]]\n",
      "hit\n",
      "[[0, -1], [1, 0], [2, 1]]\n",
      "[[0, -1], [1, 0], [2, 1], [2, 2]]\n",
      "touch the bottom\n",
      "[[0, -1], [2, 0]]\n",
      "[[0, -1], [2, 0], [2, 1]]\n",
      "[[0, -1], [2, 0], [2, 1], [2, 2]]\n",
      "touch the bottom\n",
      "touch the bottom\n"
     ]
    },
    {
     "data": {
      "text/plain": [
       "[[[0, -1], [0, 0], [0, 1], [2, 2]],\n",
       " [[0, -1], [0, 0], [2, 1], [2, 2]],\n",
       " [[0, -1], [1, 0], [2, 1], [2, 2]],\n",
       " [[0, -1], [2, 0], [2, 1], [2, 2]]]"
      ]
     },
     "execution_count": 21,
     "metadata": {},
     "output_type": "execute_result"
    }
   ],
   "source": [
    "nums = [\n",
    "  [0,0,0],\n",
    "  [0,1,0],\n",
    "  # [0,0,0],\n",
    "  [0,0,0]\n",
    "]\n",
    "\n",
    "N = 3\n",
    "M = 3\n",
    "results = []\n",
    "def paths(i,j,results,path):\n",
    "    path = path + [[i,j]]\n",
    "    print(path)\n",
    "    if nums[i][j] == 1:\n",
    "        print('hit')\n",
    "        return\n",
    "    if i == N-1:\n",
    "        if j == M-1:\n",
    "            results.append(path)\n",
    "            return\n",
    "        else:\n",
    "            paths(i,j+1,results,path)\n",
    "            print('touch the bottom')\n",
    "            return\n",
    "    if j == M-1: \n",
    "        print('touch the right')\n",
    "        return\n",
    "    for ii in range(i,N):\n",
    "#         if nums[ii][j+1] == 1:\n",
    "#             print('go')\n",
    "#             continue\n",
    "        paths(ii,j+1,results,path)\n",
    "paths(0,-1,results,[])\n",
    "results"
   ]
  },
  {
   "cell_type": "code",
   "execution_count": 5,
   "metadata": {
    "collapsed": false
   },
   "outputs": [
    {
     "data": {
      "text/plain": [
       "True"
      ]
     },
     "execution_count": 5,
     "metadata": {},
     "output_type": "execute_result"
    }
   ],
   "source": [
    "(1,2) in [(1,3),(2,3),(1,)]"
   ]
  }
 ],
 "metadata": {
  "kernelspec": {
   "display_name": "Python 3",
   "language": "python",
   "name": "python3"
  },
  "language_info": {
   "codemirror_mode": {
    "name": "ipython",
    "version": 3
   },
   "file_extension": ".py",
   "mimetype": "text/x-python",
   "name": "python",
   "nbconvert_exporter": "python",
   "pygments_lexer": "ipython3",
   "version": "3.6.0"
  }
 },
 "nbformat": 4,
 "nbformat_minor": 2
}
