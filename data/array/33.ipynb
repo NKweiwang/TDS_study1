{
 "cells": [
  {
   "cell_type": "code",
   "execution_count": 19,
   "metadata": {
    "collapsed": false
   },
   "outputs": [],
   "source": [
    "def search_1(nums,target):\n",
    "    i = 0\n",
    "    j = len(nums)-1\n",
    "    while i<j:\n",
    "        if nums[i] == target:\n",
    "            return i\n",
    "        elif nums[j] == target:\n",
    "            return j\n",
    "        mid = i + round((j-i)/2)\n",
    "        if target >= nums[mid]:\n",
    "            i = mid\n",
    "        else:\n",
    "            j = mid\n",
    "        if nums[mid] == target:\n",
    "            break\n",
    "    return mid\n",
    "\n",
    "def search_2(nums):\n",
    "    i = 0\n",
    "    j = len(nums)-1\n",
    "    while i<j:\n",
    "        if nums[j] < nums[j-1]:\n",
    "            return j\n",
    "        mid = i + round((j-i)/2)\n",
    "        if nums[mid] >= nums[i]:\n",
    "            i = mid\n",
    "        else:\n",
    "            j = mid\n",
    "        if nums[j] < nums[j-1]:\n",
    "            return j\n",
    "def search_3(nums,target):\n",
    "    k = search_2(nums)\n",
    "    if target >= nums[0]:\n",
    "        # in the first half\n",
    "        return search_1(nums[0:k],target)\n",
    "    else:\n",
    "        return k + search_1(nums[k:],target)\n"
   ]
  },
  {
   "cell_type": "code",
   "execution_count": 23,
   "metadata": {
    "collapsed": false
   },
   "outputs": [
    {
     "data": {
      "text/plain": [
       "6"
      ]
     },
     "execution_count": 23,
     "metadata": {},
     "output_type": "execute_result"
    }
   ],
   "source": [
    "nums = [4,5,6,7,1,2,3]\n",
    "nums[search_3(nums,6)]"
   ]
  }
 ],
 "metadata": {
  "kernelspec": {
   "display_name": "Python 3",
   "language": "python",
   "name": "python3"
  },
  "language_info": {
   "codemirror_mode": {
    "name": "ipython",
    "version": 3
   },
   "file_extension": ".py",
   "mimetype": "text/x-python",
   "name": "python",
   "nbconvert_exporter": "python",
   "pygments_lexer": "ipython3",
   "version": "3.6.0"
  }
 },
 "nbformat": 4,
 "nbformat_minor": 2
}
