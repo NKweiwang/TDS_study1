{
 "cells": [
  {
   "cell_type": "code",
   "execution_count": 6,
   "metadata": {
    "collapsed": false
   },
   "outputs": [
    {
     "data": {
      "text/plain": [
       "[0, 0, 0, 0, 0, 0, 1, 1, 1, 1, 1, 1, 2, 2, 2, 2, 2]"
      ]
     },
     "execution_count": 6,
     "metadata": {},
     "output_type": "execute_result"
    }
   ],
   "source": [
    "nums = [1,0,2,0,1,2,0,0,2,2,0,1,1,1,0,2,1]\n",
    "\n",
    "i0 = 0\n",
    "i1 = 0\n",
    "i2 = 0\n",
    "\n",
    "ind = 0\n",
    "count = 0\n",
    "while ind< len(nums):\n",
    "    count += 1\n",
    "    if count > len(nums):\n",
    "        break\n",
    "    if nums[ind] ==0:\n",
    "        nums.pop(ind)\n",
    "        nums.insert(0,0)\n",
    "        ind += 1\n",
    "    if nums[ind] ==1:\n",
    "        ind += 1\n",
    "    if nums[ind] ==2:\n",
    "        nums.pop(ind)\n",
    "        nums.append(2)\n",
    "nums"
   ]
  },
  {
   "cell_type": "code",
   "execution_count": null,
   "metadata": {
    "collapsed": true
   },
   "outputs": [],
   "source": []
  }
 ],
 "metadata": {
  "kernelspec": {
   "display_name": "Python 3",
   "language": "python",
   "name": "python3"
  },
  "language_info": {
   "codemirror_mode": {
    "name": "ipython",
    "version": 3
   },
   "file_extension": ".py",
   "mimetype": "text/x-python",
   "name": "python",
   "nbconvert_exporter": "python",
   "pygments_lexer": "ipython3",
   "version": "3.6.0"
  }
 },
 "nbformat": 4,
 "nbformat_minor": 2
}
