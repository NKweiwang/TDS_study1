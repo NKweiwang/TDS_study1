{
 "cells": [
  {
   "cell_type": "code",
   "execution_count": 16,
   "metadata": {
    "collapsed": false,
    "deletable": true,
    "editable": true
   },
   "outputs": [
    {
     "name": "stdout",
     "output_type": "stream",
     "text": [
      "[[], [1]]\n",
      "[[], [1], [2], [1, 2]]\n",
      "[[], [1], [2], [1, 2], [2], [1, 2], [2, 2], [1, 2, 2]]\n"
     ]
    },
    {
     "data": {
      "text/plain": [
       "[[1, 2], [1], [1, 2, 2], [2], [], [2, 2]]"
      ]
     },
     "execution_count": 16,
     "metadata": {},
     "output_type": "execute_result"
    }
   ],
   "source": [
    "nums = [1,2,2]\n",
    "def subs(n,nums):\n",
    "    if n ==0:\n",
    "        result = [[]]\n",
    "        return result\n",
    "    else:\n",
    "        result = subs(n-1,nums)\n",
    "        new_res = result + [i+[nums[n-1]] for i in result]\n",
    "        print(new_res)\n",
    "        return new_res\n",
    "test = subs(3,nums)\n",
    "test = [tuple(i) for i in test]\n",
    "set_t = set(test)\n",
    "res = [list(i) for i in set_t]\n",
    "res"
   ]
  }
 ],
 "metadata": {
  "kernelspec": {
   "display_name": "Python 3",
   "language": "python",
   "name": "python3"
  },
  "language_info": {
   "codemirror_mode": {
    "name": "ipython",
    "version": 3
   },
   "file_extension": ".py",
   "mimetype": "text/x-python",
   "name": "python",
   "nbconvert_exporter": "python",
   "pygments_lexer": "ipython3",
   "version": "3.6.0"
  }
 },
 "nbformat": 4,
 "nbformat_minor": 2
}
