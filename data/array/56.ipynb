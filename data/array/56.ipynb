{
 "cells": [
  {
   "cell_type": "code",
   "execution_count": 12,
   "metadata": {
    "collapsed": false
   },
   "outputs": [
    {
     "data": {
      "text/plain": [
       "[[2, 6], [8, 10]]"
      ]
     },
     "execution_count": 12,
     "metadata": {},
     "output_type": "execute_result"
    }
   ],
   "source": [
    "nums = [[1,3],[2,6],[8,10],[15,18],[17,21]]\n",
    "def getkey(nums):\n",
    "    return nums[0]\n",
    "nums.sort(key = getkey)\n",
    "result = []\n",
    "results = []\n",
    "for i in range(0,len(nums)-1):\n",
    "    if nums[i][1] < nums[i+1][0]:\n",
    "        result = nums[i]\n",
    "        results.append(result)\n",
    "        result = nums[i+1]\n",
    "    else:\n",
    "        result = [min(nums[i][0],nums[i+1][0]), max(nums[i][1],nums[i+1][1])]\n",
    "        \n",
    "results"
   ]
  },
  {
   "cell_type": "code",
   "execution_count": null,
   "metadata": {
    "collapsed": true
   },
   "outputs": [],
   "source": []
  }
 ],
 "metadata": {
  "kernelspec": {
   "display_name": "Python 3",
   "language": "python",
   "name": "python3"
  },
  "language_info": {
   "codemirror_mode": {
    "name": "ipython",
    "version": 3
   },
   "file_extension": ".py",
   "mimetype": "text/x-python",
   "name": "python",
   "nbconvert_exporter": "python",
   "pygments_lexer": "ipython3",
   "version": "3.6.0"
  }
 },
 "nbformat": 4,
 "nbformat_minor": 2
}
