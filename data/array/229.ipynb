{
 "cells": [
  {
   "cell_type": "code",
   "execution_count": 3,
   "metadata": {
    "collapsed": false,
    "deletable": true,
    "editable": true
   },
   "outputs": [
    {
     "name": "stdout",
     "output_type": "stream",
     "text": [
      "[1, 1] [0, 0]\n",
      "[1, 1] [2, 1]\n",
      "[1, 2] [2, 1]\n",
      "[1, 2] [2, 2]\n",
      "[1, 3] [2, 2]\n",
      "[1, 3] [2, 3]\n",
      "[1, 3] [2, 4]\n",
      "[1, 2] [2, 3]\n",
      "[1, 1] [2, 2]\n",
      "[1, 0] [2, 1]\n"
     ]
    }
   ],
   "source": [
    "nums = [1,2,1,2,1,2,2,3,3,3]\n",
    "candi1 = 0\n",
    "candi2 = 0\n",
    "count1 = 0\n",
    "count2 = 0\n",
    "\n",
    "for i in nums:\n",
    "    if count1 == 0:\n",
    "        candi1 = i\n",
    "    elif count2 == 0:\n",
    "        candi2 = i\n",
    "    if i == candi1:\n",
    "        count1 += 1\n",
    "    elif i == candi2:\n",
    "        count2 += 1\n",
    "    else:\n",
    "        count1 -= 1\n",
    "        count2 -= 1\n",
    "    print([candi1,count1],[candi2,count2])\n",
    "    "
   ]
  }
 ],
 "metadata": {
  "kernelspec": {
   "display_name": "Python 3",
   "language": "python",
   "name": "python3"
  },
  "language_info": {
   "codemirror_mode": {
    "name": "ipython",
    "version": 3
   },
   "file_extension": ".py",
   "mimetype": "text/x-python",
   "name": "python",
   "nbconvert_exporter": "python",
   "pygments_lexer": "ipython3",
   "version": "3.6.0"
  }
 },
 "nbformat": 4,
 "nbformat_minor": 2
}
