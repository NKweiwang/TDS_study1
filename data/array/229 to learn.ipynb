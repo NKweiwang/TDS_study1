{
 "cells": [
  {
   "cell_type": "markdown",
   "metadata": {},
   "source": [
    "For those who aren't familiar with Boyer-Moore Majority Vote algorithm,\n",
    "I found a great article (http://goo.gl/64Nams) that helps me to understand this fantastic algorithm!!\n",
    "Please check it out!\n",
    "\n",
    "The essential concepts is you keep a counter for the majority number X. If you find a number Y that is not X, the current counter should deduce 1. The reason is that if there is 5 X and 4 Y, there would be one (5-4) more X than Y. This could be explained as \"4 X being paired out by 4 Y\".\n",
    "\n",
    "And since the requirement is finding the majority for more than ceiling of [n/3], the answer would be less than or equal to two numbers.\n",
    "So we can modify the algorithm to maintain two counters for two majorities.\n",
    "\n",
    "Followings are my sample Python code:"
   ]
  },
  {
   "cell_type": "code",
   "execution_count": null,
   "metadata": {
    "collapsed": true
   },
   "outputs": [],
   "source": []
  }
 ],
 "metadata": {
  "kernelspec": {
   "display_name": "Python 3",
   "language": "python",
   "name": "python3"
  },
  "language_info": {
   "codemirror_mode": {
    "name": "ipython",
    "version": 3
   },
   "file_extension": ".py",
   "mimetype": "text/x-python",
   "name": "python",
   "nbconvert_exporter": "python",
   "pygments_lexer": "ipython3",
   "version": "3.6.0"
  }
 },
 "nbformat": 4,
 "nbformat_minor": 2
}
