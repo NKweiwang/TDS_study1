{
 "cells": [
  {
   "cell_type": "code",
   "execution_count": null,
   "metadata": {
    "collapsed": true
   },
   "outputs": [],
   "source": [
    "a = [1,3,6,8,9,10,15]\n",
    "t = 18\n",
    "for i in range(len(a)):\n",
    "    if t < a[i]:\n",
    "        print(i)\n",
    "        break"
   ]
  },
  {
   "cell_type": "markdown",
   "metadata": {},
   "source": [
    "class Solution(object):\n",
    "def searchInsert(self, nums, key):\n",
    "    if key > nums[len(nums) - 1]:\n",
    "        return len(nums)\n",
    "\n",
    "    if key < nums[0]:\n",
    "        return 0\n",
    "\n",
    "    l, r = 0, len(nums) - 1\n",
    "    while l <= r:\n",
    "        m = (l + r)/2\n",
    "        if nums[m] > key:\n",
    "            r = m - 1\n",
    "            if r >= 0:\n",
    "                if nums[r] < key:\n",
    "                    return r + 1\n",
    "            else:\n",
    "                return 0\n",
    "\n",
    "        elif nums[m] < key:\n",
    "            l = m + 1\n",
    "            if l < len(nums):\n",
    "                if nums[l] > key:\n",
    "                    return l\n",
    "            else:\n",
    "                return len(nums)\n",
    "        else:\n",
    "            return m"
   ]
  }
 ],
 "metadata": {
  "kernelspec": {
   "display_name": "Python 3",
   "language": "python",
   "name": "python3"
  },
  "language_info": {
   "codemirror_mode": {
    "name": "ipython",
    "version": 3
   },
   "file_extension": ".py",
   "mimetype": "text/x-python",
   "name": "python",
   "nbconvert_exporter": "python",
   "pygments_lexer": "ipython3",
   "version": "3.6.0"
  }
 },
 "nbformat": 4,
 "nbformat_minor": 2
}
