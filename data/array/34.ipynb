{
 "cells": [
  {
   "cell_type": "code",
   "execution_count": 5,
   "metadata": {
    "collapsed": false
   },
   "outputs": [
    {
     "data": {
      "text/plain": [
       "[3, 4]"
      ]
     },
     "execution_count": 5,
     "metadata": {},
     "output_type": "execute_result"
    }
   ],
   "source": [
    "def searchrange(nums,target):\n",
    "    i = 0\n",
    "    j = len(nums) - 1\n",
    "    if target < nums[i] or target> nums[j]:\n",
    "        return [-1,-1]\n",
    "    while (j-i)>1:\n",
    "        mid = round((i+j)/2)\n",
    "        if nums[mid] == target:\n",
    "            if nums[mid+1] == target:\n",
    "                return [mid,mid+1]\n",
    "            else:\n",
    "                return [mid-1,mid]\n",
    "        elif nums[mid] < target:\n",
    "            i = mid\n",
    "        else:\n",
    "            j = mid\n",
    "    return [i,j]\n",
    "nums = [5, 7, 7, 8, 8, 10]\n",
    "searchrange(nums,8)"
   ]
  },
  {
   "cell_type": "code",
   "execution_count": 25,
   "metadata": {
    "collapsed": false
   },
   "outputs": [
    {
     "name": "stdout",
     "output_type": "stream",
     "text": [
      "[4, 5]\n",
      "[2, 5]\n"
     ]
    }
   ],
   "source": [
    "nums = [5, 7, 7, 8, 10, 10]\n",
    "target = 10\n",
    "i = 0\n",
    "j = len(nums) - 1\n",
    "while (j-i)>1:\n",
    "    mid = round((i+j)/2)\n",
    "    if nums[mid] == target:\n",
    "        if nums[mid+1] == target:\n",
    "            print( [mid,mid+1] )\n",
    "            break\n",
    "        else:\n",
    "            print( [mid-1,mid] )\n",
    "            break\n",
    "    elif nums[mid] < target:\n",
    "        i = mid\n",
    "    else:\n",
    "        j = mid\n",
    "print([i,j])"
   ]
  },
  {
   "cell_type": "code",
   "execution_count": null,
   "metadata": {
    "collapsed": true
   },
   "outputs": [],
   "source": []
  }
 ],
 "metadata": {
  "kernelspec": {
   "display_name": "Python 3",
   "language": "python",
   "name": "python3"
  },
  "language_info": {
   "codemirror_mode": {
    "name": "ipython",
    "version": 3
   },
   "file_extension": ".py",
   "mimetype": "text/x-python",
   "name": "python",
   "nbconvert_exporter": "python",
   "pygments_lexer": "ipython3",
   "version": "3.6.0"
  }
 },
 "nbformat": 4,
 "nbformat_minor": 2
}
