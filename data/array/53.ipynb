{
 "cells": [
  {
   "cell_type": "code",
   "execution_count": 21,
   "metadata": {
    "collapsed": false
   },
   "outputs": [
    {
     "name": "stdout",
     "output_type": "stream",
     "text": [
      "11 13\n"
     ]
    },
    {
     "data": {
      "text/plain": [
       "[6, 1]"
      ]
     },
     "execution_count": 21,
     "metadata": {},
     "output_type": "execute_result"
    }
   ],
   "source": [
    "A = [-2,1,-3,4,-1,2,1,-5,-6,4,1,-10,6,1]\n",
    "start = 0\n",
    "end = 0\n",
    "new_start = 0\n",
    "new_end = 0\n",
    "max_sum = 0\n",
    "min_sum = 0\n",
    "cu_sum = 0\n",
    "for i in range(len(A)):\n",
    "    cu_sum = cu_sum + A[i]\n",
    "    if cu_sum < min_sum:\n",
    "        min_sum = cu_sum\n",
    "        new_start = i\n",
    "    if (cu_sum - min_sum) > max_sum:\n",
    "        max_sum = cu_sum - min_sum\n",
    "        new_end = i\n",
    "    if new_end > new_start:\n",
    "        start = new_start\n",
    "        end = new_end\n",
    "        \n",
    "\n",
    "print(start,end)\n",
    "A[start+1:end+1]\n",
    "# def find_sum(A):\n",
    "    "
   ]
  }
 ],
 "metadata": {
  "kernelspec": {
   "display_name": "Python 3",
   "language": "python",
   "name": "python3"
  },
  "language_info": {
   "codemirror_mode": {
    "name": "ipython",
    "version": 3
   },
   "file_extension": ".py",
   "mimetype": "text/x-python",
   "name": "python",
   "nbconvert_exporter": "python",
   "pygments_lexer": "ipython3",
   "version": "3.6.0"
  }
 },
 "nbformat": 4,
 "nbformat_minor": 2
}
