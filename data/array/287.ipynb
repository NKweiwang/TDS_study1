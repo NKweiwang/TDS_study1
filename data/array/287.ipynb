{
 "cells": [
  {
   "cell_type": "code",
   "execution_count": 5,
   "metadata": {
    "collapsed": false,
    "deletable": true,
    "editable": true
   },
   "outputs": [
    {
     "name": "stdout",
     "output_type": "stream",
     "text": [
      "[8, 1, 1, 9, 5, 5, 4, 2, 8, 7, 3]\n",
      "find 1\n",
      "[8, 1, 2, 9, 5, 5, 4, 2, 8, 9, 3]\n",
      "find 2\n",
      "find 5\n",
      "find 5\n",
      "[8, 1, 2, 9, 5, 5, 4, 7, 8, 9, 3]\n",
      "find 5\n",
      "[8, 1, 2, 9, 4, 5, 4, 7, 8, 9, 3]\n",
      "find 9\n",
      "[8, 1, 2, 3, 4, 5, 4, 7, 8, 9, 3]\n"
     ]
    },
    {
     "data": {
      "text/plain": [
       "[8, 1, 2, 3, 4, 5, 4, 7, 8, 9, 3]"
      ]
     },
     "execution_count": 5,
     "metadata": {},
     "output_type": "execute_result"
    }
   ],
   "source": [
    "nums = [2,1,4,6,3,5,4,7,8,9]\n",
    "nums = [8,1,1,9,5,5,4,2,2,7,3]\n",
    "# def rerun(nums,i):\n",
    "#     # like nums()\n",
    "#     if nums[i] == i:\n",
    "#         return\n",
    "#     else:\n",
    "#         crt = nums[i+1]\n",
    "#         nums\n",
    "        \n",
    "        \n",
    "for i in range(len(nums)):\n",
    "    if nums[i] == i:\n",
    "        continue\n",
    "    else:\n",
    "        crt = nums[i]\n",
    "        if nums[crt] == crt:\n",
    "                print('find',crt)\n",
    "        go = nums[crt]\n",
    "        if nums[go] == go:\n",
    "                print('find',go)\n",
    "        nums[crt] = crt\n",
    "        print(nums)\n",
    "        while nums[go] != go:\n",
    "            crt = nums[go]\n",
    "            if nums[crt] == crt:\n",
    "                print('find',crt)\n",
    "            nums[go] = go\n",
    "            go = crt\n",
    "\n",
    "nums"
   ]
  },
  {
   "cell_type": "code",
   "execution_count": null,
   "metadata": {
    "collapsed": true,
    "deletable": true,
    "editable": true
   },
   "outputs": [],
   "source": []
  }
 ],
 "metadata": {
  "kernelspec": {
   "display_name": "Python 3",
   "language": "python",
   "name": "python3"
  },
  "language_info": {
   "codemirror_mode": {
    "name": "ipython",
    "version": 3
   },
   "file_extension": ".py",
   "mimetype": "text/x-python",
   "name": "python",
   "nbconvert_exporter": "python",
   "pygments_lexer": "ipython3",
   "version": "3.6.0"
  }
 },
 "nbformat": 4,
 "nbformat_minor": 2
}
