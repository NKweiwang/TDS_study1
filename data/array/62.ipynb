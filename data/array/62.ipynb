{
 "cells": [
  {
   "cell_type": "code",
   "execution_count": 23,
   "metadata": {
    "collapsed": false,
    "deletable": true,
    "editable": true
   },
   "outputs": [
    {
     "name": "stdout",
     "output_type": "stream",
     "text": [
      "0 -1\n",
      "0 0\n",
      "0 1\n",
      "0 2\n",
      "touch the right\n",
      "1 2\n",
      "touch the right\n",
      "2 2\n",
      "1 1\n",
      "1 2\n",
      "touch the right\n",
      "2 2\n",
      "2 1\n",
      "2 2\n",
      "touch the bottom\n",
      "1 0\n",
      "1 1\n",
      "1 2\n",
      "touch the right\n",
      "2 2\n",
      "2 1\n",
      "2 2\n",
      "touch the bottom\n",
      "2 0\n",
      "2 1\n",
      "2 2\n",
      "touch the bottom\n",
      "touch the bottom\n"
     ]
    },
    {
     "data": {
      "text/plain": [
       "6"
      ]
     },
     "execution_count": 23,
     "metadata": {},
     "output_type": "execute_result"
    }
   ],
   "source": [
    "nums = [\n",
    "  [0,0,0],\n",
    "  [0,0,0],\n",
    "  [0,0,0]\n",
    "]\n",
    "\n",
    "N = 3\n",
    "M = 3\n",
    "results = []\n",
    "def paths(i,j,results):\n",
    "    print(i,j)\n",
    "    if nums[i][j] == 1:\n",
    "        print('hit')\n",
    "        return\n",
    "    if i == N-1:\n",
    "        if j == M-1:\n",
    "            results.append(1)\n",
    "            return\n",
    "        else:\n",
    "            paths(i,j+1,results)\n",
    "            print('touch the bottom')\n",
    "            return\n",
    "    if j == M-1: \n",
    "        print('touch the right')\n",
    "        return\n",
    "    for ii in range(i,N):\n",
    "        paths(ii,j+1,results)\n",
    "paths(0,-1,results)\n",
    "len(results)"
   ]
  },
  {
   "cell_type": "code",
   "execution_count": null,
   "metadata": {
    "collapsed": true,
    "deletable": true,
    "editable": true
   },
   "outputs": [],
   "source": []
  }
 ],
 "metadata": {
  "kernelspec": {
   "display_name": "Python 3",
   "language": "python",
   "name": "python3"
  },
  "language_info": {
   "codemirror_mode": {
    "name": "ipython",
    "version": 3
   },
   "file_extension": ".py",
   "mimetype": "text/x-python",
   "name": "python",
   "nbconvert_exporter": "python",
   "pygments_lexer": "ipython3",
   "version": "3.6.0"
  }
 },
 "nbformat": 4,
 "nbformat_minor": 2
}
