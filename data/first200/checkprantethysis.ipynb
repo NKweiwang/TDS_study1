{
 "cells": [
  {
   "cell_type": "code",
   "execution_count": 12,
   "metadata": {},
   "outputs": [
    {
     "data": {
      "text/plain": [
       "['{', '(', '}']"
      ]
     },
     "execution_count": 12,
     "metadata": {},
     "output_type": "execute_result"
    }
   ],
   "source": [
    "s = \"[()]{}{[()()](()}\"\n",
    "s = list(s)\n",
    "stack = []\n",
    "def check(x,y):\n",
    "    if x == \"(\" and y == \")\":\n",
    "        return True\n",
    "    if x == \"[\" and y == \"]\":\n",
    "        return True\n",
    "    if x == \"{\" and y == \"}\":\n",
    "        return True\n",
    "    return False\n",
    "\n",
    "for i in range(0,len(s)):\n",
    "    if len(stack)==0:\n",
    "        stack.append(s[i])\n",
    "        continue\n",
    "    if check(stack[-1],s[i]):\n",
    "        stack.pop()\n",
    "    else:\n",
    "        stack.append(s[i])\n",
    "stack"
   ]
  }
 ],
 "metadata": {
  "kernelspec": {
   "display_name": "Python 3",
   "language": "python",
   "name": "python3"
  },
  "language_info": {
   "codemirror_mode": {
    "name": "ipython",
    "version": 3
   },
   "file_extension": ".py",
   "mimetype": "text/x-python",
   "name": "python",
   "nbconvert_exporter": "python",
   "pygments_lexer": "ipython3",
   "version": "3.6.0"
  }
 },
 "nbformat": 4,
 "nbformat_minor": 2
}
