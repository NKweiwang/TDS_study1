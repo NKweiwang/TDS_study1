{
 "cells": [
  {
   "cell_type": "code",
   "execution_count": 1,
   "metadata": {},
   "outputs": [
    {
     "name": "stdout",
     "output_type": "stream",
     "text": [
      "-6 0\n",
      "-1 0\n",
      "1 0\n",
      "1 3\n",
      "-3 3\n",
      "0 3\n"
     ]
    }
   ],
   "source": [
    "nums = [-7,1,5,2,-4,3,0]\n",
    "i = 0\n",
    "j = len(nums)-1\n",
    "left_sum = nums[i]\n",
    "right_sum = nums[j]\n",
    "while i<j:\n",
    "    if left_sum < right_sum:\n",
    "        i += 1\n",
    "        left_sum += nums[i]\n",
    "    elif left_sum > right_sum:\n",
    "        j -= 1\n",
    "        right_sum += nums[j]\n",
    "    else:\n",
    "        i+= 1\n",
    "        j -=1\n",
    "        left_sum += nums[i]\n",
    "        right_sum += nums[j]\n",
    "    print(left_sum,right_sum)\n",
    "    \n",
    "# 1) Initialize leftsum  as 0\n",
    "# 2) Get the total sum of the array as sum\n",
    "# 3) Iterate through the array and for each index i, do following.\n",
    "#     a)  Update sum to get the right sum.  \n",
    "#            sum = sum - arr[i] \n",
    "#        // sum is now right sum\n",
    "#     b) If leftsum is equal to sum, then return current index. \n",
    "#     c) leftsum = leftsum + arr[i] // update leftsum for next iteration.\n",
    "# 4) return -1 // If we come out of loop without returning then\n",
    "#              // there is no equilibrium index"
   ]
  }
 ],
 "metadata": {
  "kernelspec": {
   "display_name": "Python 3",
   "language": "python",
   "name": "python3"
  },
  "language_info": {
   "codemirror_mode": {
    "name": "ipython",
    "version": 3
   },
   "file_extension": ".py",
   "mimetype": "text/x-python",
   "name": "python",
   "nbconvert_exporter": "python",
   "pygments_lexer": "ipython3",
   "version": "3.6.0"
  }
 },
 "nbformat": 4,
 "nbformat_minor": 2
}
