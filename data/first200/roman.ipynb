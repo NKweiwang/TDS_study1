{
 "cells": [
  {
   "cell_type": "markdown",
   "metadata": {},
   "source": [
    "Algorithm to convert Roman Numerals to Integer Number :\n",
    "\n",
    "Split the Roman Numeral string into Roman Symbols (character).\n",
    "Convert each symbol of Roman Numerals into the value it represents.\n",
    "Take symbol one by one from starting from index 0:\n",
    "If current value of symbol is greater than or equal to the value of next symbol, then add this value to the running total.\n",
    "else subtract this value by adding the value of next symbol to the running total.\n"
   ]
  }
 ],
 "metadata": {
  "kernelspec": {
   "display_name": "Python 3",
   "language": "python",
   "name": "python3"
  },
  "language_info": {
   "codemirror_mode": {
    "name": "ipython",
    "version": 3
   },
   "file_extension": ".py",
   "mimetype": "text/x-python",
   "name": "python",
   "nbconvert_exporter": "python",
   "pygments_lexer": "ipython3",
   "version": "3.6.0"
  }
 },
 "nbformat": 4,
 "nbformat_minor": 2
}
