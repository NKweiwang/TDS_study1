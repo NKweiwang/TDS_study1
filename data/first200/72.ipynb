{
 "cells": [
  {
   "cell_type": "code",
   "execution_count": null,
   "metadata": {
    "collapsed": true
   },
   "outputs": [],
   "source": [
    "Use f[i][j] to represent the shortest edit distance between word1[0,i) and word2[0, j). Then compare the last character of word1[0,i) and word2[0,j), which are c and d respectively (c == word1[i-1], d == word2[j-1]):\n",
    "\n",
    "if c == d, then : f[i][j] = f[i-1][j-1]\n",
    "\n",
    "Otherwise we can use three operations to convert word1 to word2:\n",
    "\n",
    "(a) if we replaced c with d: f[i][j] = f[i-1][j-1] + 1;\n",
    "\n",
    "(b) if we added d after c: f[i][j] = f[i][j-1] + 1;\n",
    "\n",
    "(c) if we deleted c: f[i][j] = f[i-1][j] + 1;\n",
    "\n",
    "Note that f[i][j] only depends on f[i-1][j-1], f[i-1][j] and f[i][j-1], therefore we can reduce the space to O(n) by using only the (i-1)th array and previous updated element(f[i][j-1]).\n",
    "\n"
   ]
  }
 ],
 "metadata": {
  "kernelspec": {
   "display_name": "Python 3",
   "language": "python",
   "name": "python3"
  },
  "language_info": {
   "codemirror_mode": {
    "name": "ipython",
    "version": 3
   },
   "file_extension": ".py",
   "mimetype": "text/x-python",
   "name": "python",
   "nbconvert_exporter": "python",
   "pygments_lexer": "ipython3",
   "version": "3.6.0"
  }
 },
 "nbformat": 4,
 "nbformat_minor": 2
}
