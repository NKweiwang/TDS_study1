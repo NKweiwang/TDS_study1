{
 "cells": [
  {
   "cell_type": "code",
   "execution_count": 59,
   "metadata": {},
   "outputs": [],
   "source": [
    "numbers = [1,2,2,3]"
   ]
  },
  {
   "cell_type": "code",
   "execution_count": 60,
   "metadata": {},
   "outputs": [
    {
     "name": "stdout",
     "output_type": "stream",
     "text": [
      "1\n",
      "2\n",
      "[1, 2, 2, 3]\n",
      "3\n",
      "3\n",
      "[1, 2, 2, 3]\n"
     ]
    }
   ],
   "source": [
    "\n",
    "numbers.sort()\n",
    "N = len(numbers)\n",
    "n = N//2\n",
    "\n",
    "for i in range(n):\n",
    "    crt = i*2 + 1\n",
    "    print(crt)\n",
    "    if(N%2 == 0):\n",
    "        change = n+i\n",
    "    else:\n",
    "        change = n+i+1\n",
    "    print(change)\n",
    "    tmp = numbers[change]\n",
    "    numbers[change] = numbers[crt]\n",
    "    numbers[crt] = tmp\n",
    "    print(numbers)\n"
   ]
  },
  {
   "cell_type": "code",
   "execution_count": 39,
   "metadata": {},
   "outputs": [
    {
     "data": {
      "text/plain": [
       "4.666666666666667"
      ]
     },
     "execution_count": 39,
     "metadata": {},
     "output_type": "execute_result"
    }
   ],
   "source": [
    "def  game(rolls):\n",
    "    if rolls == 1:\n",
    "        return 3.5\n",
    "    last = game(rolls-1)\n",
    "    if last == 6:\n",
    "        return 6\n",
    "    prob = (6 - int(last))/6\n",
    "    digits = [i for i in range(6,int(last),-1)]\n",
    "    next_roll = sum(digits)/len(digits)\n",
    "    crt = prob * next_roll + (1-prob) * last\n",
    "    return crt\n",
    "game(3)"
   ]
  }
 ],
 "metadata": {
  "kernelspec": {
   "display_name": "Python 3",
   "language": "python",
   "name": "python3"
  },
  "language_info": {
   "codemirror_mode": {
    "name": "ipython",
    "version": 3
   },
   "file_extension": ".py",
   "mimetype": "text/x-python",
   "name": "python",
   "nbconvert_exporter": "python",
   "pygments_lexer": "ipython3",
   "version": "3.6.0"
  }
 },
 "nbformat": 4,
 "nbformat_minor": 2
}
