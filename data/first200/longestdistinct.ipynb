{
 "cells": [
  {
   "cell_type": "code",
   "execution_count": 2,
   "metadata": {},
   "outputs": [
    {
     "data": {
      "text/plain": [
       "6"
      ]
     },
     "execution_count": 2,
     "metadata": {},
     "output_type": "execute_result"
    }
   ],
   "source": [
    "s = \"ABDEFGABEF\"\n",
    "crt = []\n",
    "crtmax = 0\n",
    "maxl = 0\n",
    "for i in s:\n",
    "    if i in set(crt):\n",
    "        crtmax = 1\n",
    "        crt = [i]\n",
    "    else:\n",
    "        crtmax += 1\n",
    "        crt = crt + [i]\n",
    "        \n",
    "    maxl = max(maxl,crtmax)\n",
    "maxl\n",
    "    "
   ]
  }
 ],
 "metadata": {
  "kernelspec": {
   "display_name": "Python 3",
   "language": "python",
   "name": "python3"
  },
  "language_info": {
   "codemirror_mode": {
    "name": "ipython",
    "version": 3
   },
   "file_extension": ".py",
   "mimetype": "text/x-python",
   "name": "python",
   "nbconvert_exporter": "python",
   "pygments_lexer": "ipython3",
   "version": "3.6.0"
  }
 },
 "nbformat": 4,
 "nbformat_minor": 2
}
