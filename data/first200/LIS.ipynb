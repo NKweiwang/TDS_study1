{
 "cells": [
  {
   "cell_type": "code",
   "execution_count": null,
   "metadata": {
    "collapsed": true
   },
   "outputs": [],
   "source": [
    "nums = [10, 22, 9, 33, 21, 50, 41, 60, 80]\n",
    "n1_last = nums[0] #in\n",
    "n2_last = None # not in \n",
    "n1 = 1\n",
    "n2 = 0\n",
    "\n",
    "for i in range(1,len(nums)):\n",
    "    if nums[i] > n1_last:\n",
    "        n2_last = n1_last\n",
    "        n_2 += 1\n",
    "        n1_last = nums[i]\n",
    "        n1 += 1\n",
    "        \n",
    "# Let arr[0..n-1] be the input array and L(i) be the length of the LIS ending at index i such that arr[i] is the last element of the LIS.\n",
    "# Then, L(i) can be recursively written as:\n",
    "# L(i) = 1 + max( L(j) ) where 0 < j < i and arr[j] < arr[i]; or\n",
    "# L(i) = 1, if no such j exists.\n",
    "# To find the LIS for a given array, we need to return max(L(i)) where 0 < i < n.\n",
    "# Thus, we see the LIS problem satisfies the optimal substructure property as the main problem can be solved using solutions to subproblems.\n",
    "\n",
    "         \n",
    "\n",
    "\n"
   ]
  },
  {
   "cell_type": "code",
   "execution_count": 1,
   "metadata": {},
   "outputs": [
    {
     "data": {
      "text/plain": [
       "(4, 2)"
      ]
     },
     "execution_count": 1,
     "metadata": {},
     "output_type": "execute_result"
    }
   ],
   "source": []
  }
 ],
 "metadata": {
  "kernelspec": {
   "display_name": "Python 3",
   "language": "python",
   "name": "python3"
  },
  "language_info": {
   "codemirror_mode": {
    "name": "ipython",
    "version": 3
   },
   "file_extension": ".py",
   "mimetype": "text/x-python",
   "name": "python",
   "nbconvert_exporter": "python",
   "pygments_lexer": "ipython3",
   "version": "3.6.0"
  }
 },
 "nbformat": 4,
 "nbformat_minor": 2
}
