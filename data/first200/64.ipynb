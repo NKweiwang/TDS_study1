{
 "cells": [
  {
   "cell_type": "code",
   "execution_count": 4,
   "metadata": {
    "collapsed": true
   },
   "outputs": [],
   "source": [
    "nums = [[1,3,1],\n",
    "        [1,5,2],\n",
    "        [4,2,1]]\n"
   ]
  },
  {
   "cell_type": "code",
   "execution_count": 16,
   "metadata": {},
   "outputs": [
    {
     "name": "stdout",
     "output_type": "stream",
     "text": [
      "[[1, 4, 0], [1, 4, 0], [1, 4, 0]]\n",
      "[[1, 4, 5], [1, 4, 5], [1, 4, 5]]\n"
     ]
    }
   ],
   "source": [
    "m = len(nums)\n",
    "n = len(nums[0])\n",
    "cu_num = [[0]*(n)] *(m)\n",
    "cu_num[0][0] = nums[0][0]\n",
    "for i in range(1,n):\n",
    "    cu_num[0][i] = cu_num[0][i-1] + nums[0][i]\n",
    "    print(cu_num)\n",
    "\n"
   ]
  },
  {
   "cell_type": "code",
   "execution_count": null,
   "metadata": {
    "collapsed": true
   },
   "outputs": [],
   "source": []
  }
 ],
 "metadata": {
  "kernelspec": {
   "display_name": "Python 3",
   "language": "python",
   "name": "python3"
  },
  "language_info": {
   "codemirror_mode": {
    "name": "ipython",
    "version": 3
   },
   "file_extension": ".py",
   "mimetype": "text/x-python",
   "name": "python",
   "nbconvert_exporter": "python",
   "pygments_lexer": "ipython3",
   "version": "3.6.0"
  }
 },
 "nbformat": 4,
 "nbformat_minor": 2
}
