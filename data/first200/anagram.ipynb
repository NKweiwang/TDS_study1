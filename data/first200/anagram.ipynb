{
 "cells": [
  {
   "cell_type": "code",
   "execution_count": 6,
   "metadata": {},
   "outputs": [
    {
     "name": "stdout",
     "output_type": "stream",
     "text": [
      "g\n"
     ]
    }
   ],
   "source": [
    "s1 = \"coolon\"\n",
    "s2 = \"loogon\"\n",
    "\n",
    "dic1 = {}\n",
    "dic2 = {}\n",
    "for i in s1:\n",
    "    if i in dic1:\n",
    "        dic1[i] += 1\n",
    "    else:\n",
    "        dic1[i] = 1\n",
    "for i in s2:\n",
    "    if i in dic2:\n",
    "        dic2[i] += 1\n",
    "    else:\n",
    "        dic2[i] = 1\n",
    "for i in dic2:\n",
    "    if dic2[i] != dic1.get(i,0):\n",
    "        print(i)"
   ]
  }
 ],
 "metadata": {
  "kernelspec": {
   "display_name": "Python 3",
   "language": "python",
   "name": "python3"
  },
  "language_info": {
   "codemirror_mode": {
    "name": "ipython",
    "version": 3
   },
   "file_extension": ".py",
   "mimetype": "text/x-python",
   "name": "python",
   "nbconvert_exporter": "python",
   "pygments_lexer": "ipython3",
   "version": "3.6.0"
  }
 },
 "nbformat": 4,
 "nbformat_minor": 2
}
