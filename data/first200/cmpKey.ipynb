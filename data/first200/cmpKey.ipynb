{
 "cells": [
  {
   "cell_type": "code",
   "execution_count": 3,
   "metadata": {},
   "outputs": [
    {
     "data": {
      "text/plain": [
       "[4]"
      ]
     },
     "execution_count": 3,
     "metadata": {},
     "output_type": "execute_result"
    }
   ],
   "source": [
    "nums = [5, 1, 4, 3, 6, 8, 10, 7, 9]\n",
    "crtmax = [nums[0]]\n",
    "for i in range(1,len(nums)):\n",
    "    crtmax = crtmax + [max(nums[i],crtmax[-1])]\n",
    "crtmin = [nums[len(nums)-1]]\n",
    "for i in range(len(nums)-2,-1,-1 ):\n",
    "    crtmin = [min(crtmin[0],nums[i])] + crtmin\n",
    "[i for i in range(len(nums)) if crtmax[i] == crtmin[i]]\n",
    "\n"
   ]
  },
  {
   "cell_type": "code",
   "execution_count": 8,
   "metadata": {},
   "outputs": [
    {
     "data": {
      "text/plain": [
       "[2]"
      ]
     },
     "execution_count": 8,
     "metadata": {},
     "output_type": "execute_result"
    }
   ],
   "source": [
    "dic = {}\n",
    "dic[2] = 3\n",
    "dic[4] = 1\n",
    "[dic[i] for i in dic]\n",
    "[i for i in dic if dic[i] == 3]"
   ]
  },
  {
   "cell_type": "code",
   "execution_count": 27,
   "metadata": {},
   "outputs": [
    {
     "data": {
      "text/plain": [
       "[3, 2, 5]"
      ]
     },
     "execution_count": 27,
     "metadata": {},
     "output_type": "execute_result"
    }
   ],
   "source": [
    "dic = {\"A\":3,\"B\":2,\"C\":5}\n",
    "def getkey(i):\n",
    "    return i.value()\n",
    "\n",
    "[dic.get(i) for i in dic ]"
   ]
  }
 ],
 "metadata": {
  "kernelspec": {
   "display_name": "Python 3",
   "language": "python",
   "name": "python3"
  },
  "language_info": {
   "codemirror_mode": {
    "name": "ipython",
    "version": 3
   },
   "file_extension": ".py",
   "mimetype": "text/x-python",
   "name": "python",
   "nbconvert_exporter": "python",
   "pygments_lexer": "ipython3",
   "version": "3.6.0"
  }
 },
 "nbformat": 4,
 "nbformat_minor": 2
}
