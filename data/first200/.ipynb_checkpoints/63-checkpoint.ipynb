{
 "cells": [
  {
   "cell_type": "code",
   "execution_count": 11,
   "metadata": {
    "collapsed": true
   },
   "outputs": [],
   "source": [
    "nums = [\n",
    "  [0,0,0],\n",
    "  [0,0,1],\n",
    "  [0,0,0]\n",
    "]\n"
   ]
  },
  {
   "cell_type": "code",
   "execution_count": 12,
   "metadata": {},
   "outputs": [],
   "source": [
    "m = len(nums)\n",
    "n = len(nums[0])\n"
   ]
  },
  {
   "cell_type": "code",
   "execution_count": 13,
   "metadata": {},
   "outputs": [
    {
     "name": "stdout",
     "output_type": "stream",
     "text": [
      "[[0, 0, 1, 0], [0, 0, 1, 0], [0, 0, 1, 0], [0, 0, 1, 0]]\n",
      "[[0, 1, 1, 0], [0, 1, 1, 0], [0, 1, 1, 0], [0, 1, 1, 0]]\n",
      "[[1, 1, 1, 0], [1, 1, 1, 0], [1, 1, 1, 0], [1, 1, 1, 0]]\n",
      "[[1, 1, 0, 0], [1, 1, 0, 0], [1, 1, 0, 0], [1, 1, 0, 0]]\n",
      "[[1, 1, 0, 0], [1, 1, 0, 0], [1, 1, 0, 0], [1, 1, 0, 0]]\n",
      "[[2, 1, 0, 0], [2, 1, 0, 0], [2, 1, 0, 0], [2, 1, 0, 0]]\n",
      "[[2, 1, 0, 0], [2, 1, 0, 0], [2, 1, 0, 0], [2, 1, 0, 0]]\n",
      "[[2, 1, 0, 0], [2, 1, 0, 0], [2, 1, 0, 0], [2, 1, 0, 0]]\n",
      "[[3, 1, 0, 0], [3, 1, 0, 0], [3, 1, 0, 0], [3, 1, 0, 0]]\n"
     ]
    },
    {
     "data": {
      "text/plain": [
       "[[3, 1, 0, 0], [3, 1, 0, 0], [3, 1, 0, 0], [3, 1, 0, 0]]"
      ]
     },
     "execution_count": 13,
     "metadata": {},
     "output_type": "execute_result"
    }
   ],
   "source": [
    "Cnum = [[0]*(n+1)]*(m+1)\n",
    "Cnum[m-1][n-1] = 1\n",
    "\n",
    "\n",
    "for i in range(m - 1, -1,-1):\n",
    "    for j in range(n-1 ,-1,-1):\n",
    "        if nums[i][j] == 1:\n",
    "            Cnum[i][j] = 0\n",
    "        else:\n",
    "            Cnum[i][j] = Cnum[i+1][j] +Cnum[i][j+1]\n",
    "        print(Cnum)\n",
    "Cnum"
   ]
  }
 ],
 "metadata": {
  "kernelspec": {
   "display_name": "Python 3",
   "language": "python",
   "name": "python3"
  },
  "language_info": {
   "codemirror_mode": {
    "name": "ipython",
    "version": 3
   },
   "file_extension": ".py",
   "mimetype": "text/x-python",
   "name": "python",
   "nbconvert_exporter": "python",
   "pygments_lexer": "ipython3",
   "version": "3.6.0"
  }
 },
 "nbformat": 4,
 "nbformat_minor": 2
}
