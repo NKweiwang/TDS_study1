{
 "cells": [
  {
   "cell_type": "code",
   "execution_count": 34,
   "metadata": {},
   "outputs": [
    {
     "data": {
      "text/plain": [
       "[1]"
      ]
     },
     "execution_count": 34,
     "metadata": {},
     "output_type": "execute_result"
    }
   ],
   "source": [
    "class ListNode(object):\n",
    "    def __init__(self, x):\n",
    "        self.val = x\n",
    "        self.next = None\n",
    "\n",
    "l1 = ListNode(1)\n",
    "l1.next = ListNode(2)\n",
    "l1.next.next = ListNode(3)\n",
    "\n",
    "def listtonum(l):\n",
    "    crt = None\n",
    "    while l.val != None:\n",
    "        if crt == None:\n",
    "            crt = l.val\n",
    "        else:\n",
    "            crt = 10*crt + l.val\n",
    "        l = l.next\n",
    "        if l== None:\n",
    "            break\n",
    "    return crt\n",
    "listtonum(l1)\n",
    "\n",
    "def numtovec(n):\n",
    "    if n ==0:\n",
    "        return [0]\n",
    "    crt = []\n",
    "    dv = 10**1\n",
    "    while n != 0:\n",
    "        crt = crt + [n % 10]\n",
    "        n = int(n//10)\n",
    "    return crt\n",
    "\n",
    "numtovec(12343)"
   ]
  }
 ],
 "metadata": {
  "kernelspec": {
   "display_name": "Python 3",
   "language": "python",
   "name": "python3"
  },
  "language_info": {
   "codemirror_mode": {
    "name": "ipython",
    "version": 3
   },
   "file_extension": ".py",
   "mimetype": "text/x-python",
   "name": "python",
   "nbconvert_exporter": "python",
   "pygments_lexer": "ipython3",
   "version": "3.6.0"
  }
 },
 "nbformat": 4,
 "nbformat_minor": 2
}
