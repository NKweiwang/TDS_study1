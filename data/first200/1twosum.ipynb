{
 "cells": [
  {
   "cell_type": "code",
   "execution_count": 5,
   "metadata": {},
   "outputs": [
    {
     "data": {
      "text/plain": [
       "[0, 1]"
      ]
     },
     "execution_count": 5,
     "metadata": {},
     "output_type": "execute_result"
    }
   ],
   "source": [
    "nums = [2, 7, 11, 15]\n",
    "\n",
    "def findtwo(nums,target):\n",
    "    dic = {}\n",
    "    for i in range(len(nums)):\n",
    "        if nums[i] in dic:\n",
    "            return [dic[nums[i]],i]\n",
    "        dic[target -nums[i]] = i\n",
    "    return None\n",
    "\n",
    "findtwo(nums, 9)"
   ]
  }
 ],
 "metadata": {
  "kernelspec": {
   "display_name": "Python 3",
   "language": "python",
   "name": "python3"
  },
  "language_info": {
   "codemirror_mode": {
    "name": "ipython",
    "version": 3
   },
   "file_extension": ".py",
   "mimetype": "text/x-python",
   "name": "python",
   "nbconvert_exporter": "python",
   "pygments_lexer": "ipython3",
   "version": "3.6.0"
  }
 },
 "nbformat": 4,
 "nbformat_minor": 2
}
