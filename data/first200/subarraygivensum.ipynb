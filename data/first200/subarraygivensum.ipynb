{
 "cells": [
  {
   "cell_type": "code",
   "execution_count": 14,
   "metadata": {},
   "outputs": [
    {
     "name": "stdout",
     "output_type": "stream",
     "text": [
      "0 1 5\n",
      "0 2 25\n",
      "0 3 28\n",
      "0 4 38\n",
      "1 4 37\n",
      "2 4 33\n",
      "2 4\n"
     ]
    }
   ],
   "source": [
    "nums = [1, 4, 20, 3, 10, 5]\n",
    "i = 0\n",
    "j = 0\n",
    "T = 33\n",
    "crt = sum(nums[i:(j+1)])\n",
    "\n",
    "while i<= j and j < len(nums)-1:\n",
    "    if crt == T:\n",
    "        print(i,j)\n",
    "        break\n",
    "    elif crt < T:\n",
    "        j = j+1\n",
    "        crt = crt + nums[j]\n",
    "    else:\n",
    "        crt = crt - nums[i]\n",
    "        i = i+1\n",
    "    print(i,j,crt)\n",
    "\n",
    "        \n",
    "    \n"
   ]
  }
 ],
 "metadata": {
  "kernelspec": {
   "display_name": "Python 3",
   "language": "python",
   "name": "python3"
  },
  "language_info": {
   "codemirror_mode": {
    "name": "ipython",
    "version": 3
   },
   "file_extension": ".py",
   "mimetype": "text/x-python",
   "name": "python",
   "nbconvert_exporter": "python",
   "pygments_lexer": "ipython3",
   "version": "3.6.0"
  }
 },
 "nbformat": 4,
 "nbformat_minor": 2
}
