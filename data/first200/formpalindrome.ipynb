{
 "cells": [
  {
   "cell_type": "code",
   "execution_count": 6,
   "metadata": {},
   "outputs": [
    {
     "data": {
      "text/plain": [
       "2"
      ]
     },
     "execution_count": 6,
     "metadata": {},
     "output_type": "execute_result"
    }
   ],
   "source": [
    "s = \"abdca\"\n",
    "\n",
    "def fp(s):\n",
    "    if len(s)== 1 or len(s)==0:\n",
    "        return 0\n",
    "    if s[0] == s[-1]:\n",
    "        res = fp(s[1:len(s)-1])\n",
    "    else:\n",
    "        res = 1+ min(fp(s[1:len(s)]),fp(s[0:len(s)-1]))\n",
    "    return res\n",
    "fp(s)"
   ]
  }
 ],
 "metadata": {
  "kernelspec": {
   "display_name": "Python 3",
   "language": "python",
   "name": "python3"
  },
  "language_info": {
   "codemirror_mode": {
    "name": "ipython",
    "version": 3
   },
   "file_extension": ".py",
   "mimetype": "text/x-python",
   "name": "python",
   "nbconvert_exporter": "python",
   "pygments_lexer": "ipython3",
   "version": "3.6.0"
  }
 },
 "nbformat": 4,
 "nbformat_minor": 2
}
