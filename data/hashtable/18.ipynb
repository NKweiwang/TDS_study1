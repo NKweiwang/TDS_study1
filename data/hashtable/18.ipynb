{
 "cells": [
  {
   "cell_type": "code",
   "execution_count": 55,
   "metadata": {},
   "outputs": [
    {
     "data": {
      "text/plain": [
       "[[0, 0, 2, 1],\n",
       " [0, 2, 0, 1],\n",
       " [0, 1, 2, 0],\n",
       " [2, 0, 0, 1],\n",
       " [1, 2, 0, 0],\n",
       " [1, 0, 2, 0],\n",
       " [2, 1, 0, 0]]"
      ]
     },
     "execution_count": 55,
     "metadata": {},
     "output_type": "execute_result"
    }
   ],
   "source": [
    "S = [1, 0, -1, 0, -2, 2]\n",
    "\n",
    "\n",
    "def twosum(nums,target):\n",
    "    result = []\n",
    "    dic = {}\n",
    "    for i in range(len(nums)):\n",
    "        if nums[i] in dic:\n",
    "            result = result + [nums[i],target-nums[i]]\n",
    "        dic[target - nums[i]] = nums[i]\n",
    "    return result\n",
    "def Nsum(nums,target,N,result,results):\n",
    "    if N <2:\n",
    "        print('da')\n",
    "        return\n",
    "    if N == 2:\n",
    "        dic = {}\n",
    "        for i in range(len(nums)):\n",
    "            if nums[i] in dic:\n",
    "                results.append(result + [nums[i],target-nums[i]])\n",
    "            dic[target - nums[i]] = nums[i]\n",
    "        return\n",
    "    for i in range(len(nums)):\n",
    "        Nsum(nums[0:i]+nums[i+1:len(nums)],target - nums[i],N-1,result + [nums[i]],results)\n",
    "    return\n",
    "results=[]\n",
    "target = 3\n",
    "Nsum(S,target,4,[],results)\n",
    "results\n",
    "[list(i) for i in set([tuple(j) for j in results])]\n"
   ]
  },
  {
   "cell_type": "code",
   "execution_count": 44,
   "metadata": {},
   "outputs": [
    {
     "data": {
      "text/plain": [
       "[[1, -1, 0], [1, 0, -1]]"
      ]
     },
     "execution_count": 44,
     "metadata": {},
     "output_type": "execute_result"
    }
   ],
   "source": [
    "def Nsum(nums,target,N,result,results):\n",
    "    if N <2:\n",
    "        print('da')\n",
    "        return\n",
    "    if N == 2:\n",
    "        dic = {}\n",
    "        for i in range(len(nums)):\n",
    "            if nums[i] in dic:\n",
    "                results.append(result + [nums[i],target-nums[i]])\n",
    "            dic[target - nums[i]] = nums[i]\n",
    "        return\n",
    "    for i in range(len(nums)):\n",
    "        Nsum(nums[0:i]+nums[i+1:len(nums)],target - nums[i],N-1,result + [nums[i]],results)\n",
    "    return\n",
    "nums = S\n",
    "i = 0\n",
    "N = 3\n",
    "results=[]\n",
    "Nsum(nums[0:i]+nums[i+1:len(nums)],target - nums[i],2,result + [nums[i]],results)\n",
    "results\n"
   ]
  }
 ],
 "metadata": {
  "kernelspec": {
   "display_name": "Python 3",
   "language": "python",
   "name": "python3"
  },
  "language_info": {
   "codemirror_mode": {
    "name": "ipython",
    "version": 3
   },
   "file_extension": ".py",
   "mimetype": "text/x-python",
   "name": "python",
   "nbconvert_exporter": "python",
   "pygments_lexer": "ipython3",
   "version": "3.6.0"
  }
 },
 "nbformat": 4,
 "nbformat_minor": 2
}
