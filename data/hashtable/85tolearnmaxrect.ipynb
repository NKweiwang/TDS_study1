{
 "cells": [
  {
   "cell_type": "code",
   "execution_count": 4,
   "metadata": {},
   "outputs": [
    {
     "ename": "SyntaxError",
     "evalue": "invalid syntax (<ipython-input-4-3a3edb3320e7>, line 11)",
     "output_type": "error",
     "traceback": [
      "\u001b[0;36m  File \u001b[0;32m\"<ipython-input-4-3a3edb3320e7>\"\u001b[0;36m, line \u001b[0;32m11\u001b[0m\n\u001b[0;31m    while ii < m, j < n:\u001b[0m\n\u001b[0m                ^\u001b[0m\n\u001b[0;31mSyntaxError\u001b[0m\u001b[0;31m:\u001b[0m invalid syntax\n"
     ]
    }
   ],
   "source": [
    "nums = [[1, 0, 1, 0, 0],\n",
    "        [1, 0, 1, 1, 1],\n",
    "        [1, 1, 1, 1, 1],\n",
    "        [1, 0, 0, 1, 0]]\n",
    "\n"
   ]
  },
  {
   "cell_type": "code",
   "execution_count": 3,
   "metadata": {},
   "outputs": [
    {
     "data": {
      "text/plain": [
       "(1, 2, 2, 1)"
      ]
     },
     "execution_count": 3,
     "metadata": {},
     "output_type": "execute_result"
    }
   ],
   "source": [
    "def maximalRectangle(self, matrix):\n",
    "    if not matrix or not matrix[0]:\n",
    "        return 0\n",
    "    n = len(matrix[0])\n",
    "    height = [0] * (n + 1)\n",
    "    ans = 0\n",
    "    for row in matrix:\n",
    "        for i in xrange(n):\n",
    "            height[i] = height[i] + 1 if row[i] == '1' else 0\n",
    "        stack = [-1]\n",
    "        for i in xrange(n + 1):\n",
    "            while height[i] < height[stack[-1]]:\n",
    "                h = height[stack.pop()]\n",
    "                w = i - 1 - stack[-1]\n",
    "                ans = max(ans, h * w)\n",
    "            stack.append(i)\n",
    "    return ans"
   ]
  }
 ],
 "metadata": {
  "kernelspec": {
   "display_name": "Python 3",
   "language": "python",
   "name": "python3"
  },
  "language_info": {
   "codemirror_mode": {
    "name": "ipython",
    "version": 3
   },
   "file_extension": ".py",
   "mimetype": "text/x-python",
   "name": "python",
   "nbconvert_exporter": "python",
   "pygments_lexer": "ipython3",
   "version": "3.6.0"
  }
 },
 "nbformat": 4,
 "nbformat_minor": 2
}
