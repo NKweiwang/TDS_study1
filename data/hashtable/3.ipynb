{
 "cells": [
  {
   "cell_type": "code",
   "execution_count": 28,
   "metadata": {},
   "outputs": [
    {
     "name": "stdout",
     "output_type": "stream",
     "text": [
      "0 2\n",
      "1 3\n",
      "1 4\n",
      "1 5\n",
      "2 6\n"
     ]
    },
    {
     "data": {
      "text/plain": [
       "4"
      ]
     },
     "execution_count": 28,
     "metadata": {},
     "output_type": "execute_result"
    }
   ],
   "source": [
    "s = \"pwwkew\"\n",
    "\n",
    "start = 0\n",
    "end = 0\n",
    "max_out = 0\n",
    "while start <= end and end < len(s):\n",
    "    if start == end:\n",
    "        end = min(len(s)-1,end+1)\n",
    "    i = s[end]\n",
    "    if i in s[start:end]:\n",
    "        while start < end:\n",
    "            start += 1\n",
    "            if s[start] == i:\n",
    "                start = start\n",
    "                break\n",
    "    end +=1\n",
    "    max_out = max(max_out,end - start)\n",
    "    print(start,end)\n",
    "max_out\n",
    "            \n",
    "            \n",
    "    "
   ]
  }
 ],
 "metadata": {
  "kernelspec": {
   "display_name": "Python 3",
   "language": "python",
   "name": "python3"
  },
  "language_info": {
   "codemirror_mode": {
    "name": "ipython",
    "version": 3
   },
   "file_extension": ".py",
   "mimetype": "text/x-python",
   "name": "python",
   "nbconvert_exporter": "python",
   "pygments_lexer": "ipython3",
   "version": "3.6.0"
  }
 },
 "nbformat": 4,
 "nbformat_minor": 2
}
