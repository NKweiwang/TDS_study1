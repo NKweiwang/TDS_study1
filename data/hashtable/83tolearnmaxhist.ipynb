{
 "cells": [
  {
   "cell_type": "code",
   "execution_count": 11,
   "metadata": {},
   "outputs": [],
   "source": [
    "nums = [5,4,3,2,1,5,6,2,3,1,1,1,1,1,1,1,2]\n",
    "nums.append(0)\n",
    "stack = [-1]\n",
    "\n",
    "\n",
    "    "
   ]
  },
  {
   "cell_type": "code",
   "execution_count": 12,
   "metadata": {},
   "outputs": [
    {
     "name": "stdout",
     "output_type": "stream",
     "text": [
      "[-1] 5\n",
      "[-1] 8\n",
      "[-1] 9\n",
      "[-1] 8\n",
      "[-1, 4, 5] 6\n",
      "[-1, 4] 10\n",
      "[-1, 4, 7] 3\n",
      "[-1, 4] 8\n",
      "[-1, 4, 9, 10, 11, 12, 13, 14, 15] 2\n",
      "[-1, 4, 9, 10, 11, 12, 13, 14] 2\n",
      "[-1, 4, 9, 10, 11, 12, 13] 3\n",
      "[-1, 4, 9, 10, 11, 12] 4\n",
      "[-1, 4, 9, 10, 11] 5\n",
      "[-1, 4, 9, 10] 6\n",
      "[-1, 4, 9] 7\n",
      "[-1, 4] 12\n",
      "[-1] 17\n"
     ]
    },
    {
     "data": {
      "text/plain": [
       "[-1]"
      ]
     },
     "execution_count": 12,
     "metadata": {},
     "output_type": "execute_result"
    }
   ],
   "source": [
    "def largestRectangleArea( height):\n",
    "    height.append(0)\n",
    "    stack = [-1]\n",
    "    ans = 0\n",
    "    for i in range(len(height)):\n",
    "        while height[i] < height[stack[-1]]:\n",
    "            h = height[stack.pop()]\n",
    "            w = i - stack[-1] - 1\n",
    "            ans = max(ans, h * w)\n",
    "            print(stack,h*w)\n",
    "        stack.append(i)\n",
    "    height.pop()\n",
    "    return ans\n",
    "largestRectangleArea(nums)\n",
    "stack"
   ]
  }
 ],
 "metadata": {
  "kernelspec": {
   "display_name": "Python 3",
   "language": "python",
   "name": "python3"
  },
  "language_info": {
   "codemirror_mode": {
    "name": "ipython",
    "version": 3
   },
   "file_extension": ".py",
   "mimetype": "text/x-python",
   "name": "python",
   "nbconvert_exporter": "python",
   "pygments_lexer": "ipython3",
   "version": "3.6.0"
  }
 },
 "nbformat": 4,
 "nbformat_minor": 2
}
