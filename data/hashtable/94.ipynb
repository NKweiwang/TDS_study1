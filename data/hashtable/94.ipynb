{
 "cells": [
  {
   "cell_type": "code",
   "execution_count": 14,
   "metadata": {
    "collapsed": true
   },
   "outputs": [],
   "source": [
    "class TreeNode(object):\n",
    "    def __init__(self, x):\n",
    "        self.val = x\n",
    "        self.left = None\n",
    "        self.right = None\n",
    "root = TreeNode(\"F\")\n",
    "root.left = TreeNode(\"B\")\n",
    "root.left.right = TreeNode(\"D\")\n",
    "root.left.left = TreeNode(\"A\")\n",
    "root.left.right.left = TreeNode(\"C\")\n",
    "root.left.right.right = TreeNode(\"E\")\n",
    "root.right = TreeNode(\"G\")\n",
    "root.right.right = TreeNode(\"I\")\n",
    "root.right.right.left = TreeNode(\"H\")"
   ]
  },
  {
   "cell_type": "code",
   "execution_count": 17,
   "metadata": {},
   "outputs": [
    {
     "name": "stdout",
     "output_type": "stream",
     "text": [
      "A\n",
      "B\n",
      "C\n",
      "D\n",
      "E\n",
      "F\n",
      "G\n",
      "H\n",
      "I\n"
     ]
    }
   ],
   "source": [
    "def inorder(crt):\n",
    "    if crt:\n",
    "        inorder(crt.left)\n",
    "        print(crt.val)\n",
    "        inorder(crt.right)\n",
    "    else:\n",
    "        return\n",
    "inorder(root)"
   ]
  },
  {
   "cell_type": "code",
   "execution_count": 15,
   "metadata": {},
   "outputs": [
    {
     "name": "stdout",
     "output_type": "stream",
     "text": [
      "F\n",
      "B\n",
      "A\n",
      "D\n",
      "C\n",
      "E\n",
      "G\n",
      "I\n",
      "H\n"
     ]
    }
   ],
   "source": [
    "def preorder(crt):\n",
    "    if crt:\n",
    "        print(crt.val)\n",
    "        preorder(crt.left)\n",
    "        preorder(crt.right)\n",
    "    else:\n",
    "        return\n",
    "    \n",
    "preorder(root)"
   ]
  },
  {
   "cell_type": "code",
   "execution_count": null,
   "metadata": {
    "collapsed": true
   },
   "outputs": [],
   "source": []
  }
 ],
 "metadata": {
  "kernelspec": {
   "display_name": "Python 3",
   "language": "python",
   "name": "python3"
  },
  "language_info": {
   "codemirror_mode": {
    "name": "ipython",
    "version": 3
   },
   "file_extension": ".py",
   "mimetype": "text/x-python",
   "name": "python",
   "nbconvert_exporter": "python",
   "pygments_lexer": "ipython3",
   "version": "3.6.0"
  }
 },
 "nbformat": 4,
 "nbformat_minor": 2
}
