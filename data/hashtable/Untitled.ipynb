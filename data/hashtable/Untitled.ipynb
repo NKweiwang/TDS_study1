{
 "cells": [
  {
   "cell_type": "code",
   "execution_count": 120,
   "metadata": {},
   "outputs": [
    {
     "data": {
      "text/plain": [
       "21"
      ]
     },
     "execution_count": 120,
     "metadata": {},
     "output_type": "execute_result"
    }
   ],
   "source": [
    "def matrixsq(nums):\n",
    "    a = nums[0]\n",
    "    b = nums[1]\n",
    "    c = nums[2]\n",
    "    d = nums[3]\n",
    "    out = [a*a+ b*c, a*b + b*d, a*c + c*d, b*c + d*d]\n",
    "    return out\n",
    "\n",
    "def matrix2power(N):\n",
    "    if N == 0:\n",
    "        return [1,1,1,0]\n",
    "    if N == 1:\n",
    "        return matrixsq([1,1,1,0])\n",
    "    numsnew = matrixsq([1,1,1,0])\n",
    "    while N > 1:\n",
    "        numsnew = matrixsq(numsnew)\n",
    "        N = N-1\n",
    "    return numsnew\n",
    "def matrixprod(nums1,nums2):\n",
    "    out = [nums1[0]*nums2[0] + nums1[1]*nums2[2],\n",
    "           nums1[0]*nums2[1] + nums1[1]*nums2[3],\n",
    "           nums2[0]*nums1[2] + nums2[2]*nums1[3],\n",
    "           nums2[1]*nums1[2] + nums2[3]*nums1[3]]\n",
    "    return out\n",
    "def near2(N):\n",
    "    if N == 1:\n",
    "        return 0\n",
    "    k = 0\n",
    "    while 2**(k) <= N:\n",
    "        k = k+1\n",
    "    out = k - 1\n",
    "    return out\n",
    "def seq(N):\n",
    "    result = []\n",
    "    while near2(N) > 0:\n",
    "        K = near2(N)\n",
    "        N = N - 2**K\n",
    "        result.append(K)\n",
    "    if N == 1:\n",
    "        result.append(0)\n",
    "    return result\n",
    "\n",
    "\n",
    "def solution(N):\n",
    "    Nseq = seq(N)\n",
    "    out = matrix2power(Nseq[0])\n",
    "    for i in range(1,len(Nseq)):\n",
    "        out = matrixprod(out,matrix2power(Nseq[i]))\n",
    "    result = out[1] % (10**6)\n",
    "    return result\n",
    "solution(8)"
   ]
  },
  {
   "cell_type": "code",
   "execution_count": 8,
   "metadata": {},
   "outputs": [
    {
     "data": {
      "text/plain": [
       "2147483647.0000021"
      ]
     },
     "execution_count": 8,
     "metadata": {},
     "output_type": "execute_result"
    }
   ],
   "source": [
    "import numpy as np\n",
    "np.exp(np.log(2147483647))"
   ]
  },
  {
   "cell_type": "code",
   "execution_count": 10,
   "metadata": {},
   "outputs": [
    {
     "ename": "ModuleNotFoundError",
     "evalue": "No module named 'scipy'",
     "output_type": "error",
     "traceback": [
      "\u001b[0;31m---------------------------------------------------------------------------\u001b[0m",
      "\u001b[0;31mModuleNotFoundError\u001b[0m                       Traceback (most recent call last)",
      "\u001b[0;32m<ipython-input-10-ae20e90304c5>\u001b[0m in \u001b[0;36m<module>\u001b[0;34m()\u001b[0m\n\u001b[0;32m----> 1\u001b[0;31m \u001b[0;32mimport\u001b[0m \u001b[0mscipy\u001b[0m \u001b[0;32mas\u001b[0m \u001b[0msp\u001b[0m\u001b[0;34m\u001b[0m\u001b[0m\n\u001b[0m\u001b[1;32m      2\u001b[0m \u001b[0mA\u001b[0m\u001b[0;34m=\u001b[0m\u001b[0msp\u001b[0m\u001b[0;34m.\u001b[0m\u001b[0mmatrix\u001b[0m\u001b[0;34m(\u001b[0m\u001b[0;34m[\u001b[0m\u001b[0;34m[\u001b[0m\u001b[0;36m1\u001b[0m\u001b[0;34m,\u001b[0m\u001b[0;36m1\u001b[0m\u001b[0;34m]\u001b[0m\u001b[0;34m,\u001b[0m\u001b[0;34m[\u001b[0m\u001b[0;36m1\u001b[0m\u001b[0;34m,\u001b[0m\u001b[0;36m0\u001b[0m\u001b[0;34m]\u001b[0m\u001b[0;34m]\u001b[0m\u001b[0;34m)\u001b[0m\u001b[0;34m\u001b[0m\u001b[0m\n",
      "\u001b[0;31mModuleNotFoundError\u001b[0m: No module named 'scipy'"
     ]
    }
   ],
   "source": [
    "import scipy as sp\n",
    "A=sp.matrix([[1,1],[1,0]])"
   ]
  },
  {
   "cell_type": "code",
   "execution_count": null,
   "metadata": {
    "collapsed": true
   },
   "outputs": [],
   "source": []
  }
 ],
 "metadata": {
  "kernelspec": {
   "display_name": "Python 3",
   "language": "python",
   "name": "python3"
  },
  "language_info": {
   "codemirror_mode": {
    "name": "ipython",
    "version": 3
   },
   "file_extension": ".py",
   "mimetype": "text/x-python",
   "name": "python",
   "nbconvert_exporter": "python",
   "pygments_lexer": "ipython3",
   "version": "3.6.0"
  }
 },
 "nbformat": 4,
 "nbformat_minor": 2
}
