{
 "cells": [
  {
   "cell_type": "code",
   "execution_count": 89,
   "metadata": {
    "collapsed": false
   },
   "outputs": [
    {
     "data": {
      "text/plain": [
       "True"
      ]
     },
     "execution_count": 89,
     "metadata": {},
     "output_type": "execute_result"
    }
   ],
   "source": [
    "numCourses, prerequisites = 6,  [[2,0],[3,1],[3,2],[2,1],[4,1],[4,2]]\n",
    "numCourses, prerequisites = 4,[[1,0],[2,1],[3,2],[1,3]]\n",
    "s = [i[0] for i in prerequisites]\n",
    "e = [i[1] for i in prerequisites]\n",
    "\n",
    "sc = []\n",
    "\n",
    "def check(s,e,path_crt,sc,target):\n",
    "    #print(target,path_crt)\n",
    "    if target in path_crt: # circle \n",
    "        # print(path_crt,target)\n",
    "        sc.append(\"circle\")\n",
    "        return\n",
    "    else:\n",
    "        path_crt.append(target)\n",
    "    temp = [e[i] for i in range(len(s)) if s[i]==target]\n",
    "    if len(temp) == 0: # find the end of the tree\n",
    "        sc.append(path_crt)\n",
    "        return \n",
    "    for i in temp:\n",
    "        check(s,e,list(path_crt),sc,i)\n",
    "\n",
    "\n",
    "sc_total = [[] for _ in range(numCourses)]\n",
    "for i in range(numCourses):\n",
    "    path = []\n",
    "    check(s,e,path,sc_total[i],i)\n",
    "sc_total\n",
    "root = [i[0][0] for i in sc_total if len(i)==1 and len(i[0])==1]\n",
    "root\n",
    "sc_total\n",
    "any(i== 'circle' for j in sc_total for i in j)"
   ]
  },
  {
   "cell_type": "code",
   "execution_count": 92,
   "metadata": {
    "collapsed": false
   },
   "outputs": [
    {
     "data": {
      "text/plain": [
       "[0, 1, 5, 2, 3, 4]"
      ]
     },
     "execution_count": 92,
     "metadata": {},
     "output_type": "execute_result"
    }
   ],
   "source": [
    "import collections\n",
    "numCourses, prerequisites = 6,  [[2,0],[3,1],[3,2],[2,1],[4,1],[4,2]]\n",
    "dic = {i: set() for i in range(numCourses)}\n",
    "neigh = collections.defaultdict(set)\n",
    "for i, j in prerequisites:\n",
    "    dic[i].add(j)\n",
    "    neigh[j].add(i)\n",
    "# queue stores the courses which have no prerequisites\n",
    "queue = collections.deque([i for i in dic if not dic[i]])\n",
    "count, res = 0, []\n",
    "while queue:\n",
    "    node = queue.popleft()\n",
    "    res.append(node)\n",
    "    count += 1\n",
    "    for i in neigh[node]:\n",
    "        dic[i].remove(node)\n",
    "        if not dic[i]:\n",
    "            queue.append(i)\n",
    "res if count == numCourses else []"
   ]
  },
  {
   "cell_type": "code",
   "execution_count": 97,
   "metadata": {
    "collapsed": false
   },
   "outputs": [
    {
     "data": {
      "text/plain": [
       "{0: set(), 1: set(), 2: {0, 1}, 3: {1, 2}, 4: {1, 2}, 5: set()}"
      ]
     },
     "execution_count": 97,
     "metadata": {},
     "output_type": "execute_result"
    }
   ],
   "source": [
    "dic = {i: set() for i in range(numCourses)}\n",
    "neigh = collections.defaultdict(set)\n",
    "for i, j in prerequisites:\n",
    "    dic[i].add(j)\n",
    "    neigh[j].add(i)\n",
    "dic"
   ]
  },
  {
   "cell_type": "code",
   "execution_count": 86,
   "metadata": {
    "collapsed": false
   },
   "outputs": [
    {
     "name": "stdout",
     "output_type": "stream",
     "text": [
      "[2]\n",
      "[2, 0, 1]\n",
      "[2, 1, 0]\n"
     ]
    },
    {
     "data": {
      "text/plain": [
       "[2, 1, 0]"
      ]
     },
     "execution_count": 86,
     "metadata": {},
     "output_type": "execute_result"
    }
   ],
   "source": [
    "# temp = [s[i] for i in range(len(s))  for j in range(len(root)) if e[i]== root[j]]\n",
    "# temp = set(tuple(temp))\n",
    "# next_step = list(temp)\n",
    "# course = list(root)\n",
    "# course+=next_step\n",
    "# course\n",
    "# temp = [s[i] for i in range(len(s))  for j in range(len(next_step)) if e[i]== next_step[j]]\n",
    "# temp\n",
    "course = list(root)\n",
    "tau = 0\n",
    "while tau < numCourses:\n",
    "    tau += 1\n",
    "    temp = [s[i] for i in range(len(s))  for j in range(len(root)) if e[i]== root[j]]\n",
    "    temp = set(tuple(temp))\n",
    "    next_step = list(temp)\n",
    "    for i in next_step:\n",
    "        if i not in course:\n",
    "            course.append(i)\n",
    "        else:\n",
    "            course.remove(i)\n",
    "            course.append(i)\n",
    "    root = next_step\n",
    "\n",
    "course"
   ]
  }
 ],
 "metadata": {
  "kernelspec": {
   "display_name": "Python 3",
   "language": "python",
   "name": "python3"
  },
  "language_info": {
   "codemirror_mode": {
    "name": "ipython",
    "version": 3
   },
   "file_extension": ".py",
   "mimetype": "text/x-python",
   "name": "python",
   "nbconvert_exporter": "python",
   "pygments_lexer": "ipython3",
   "version": "3.6.0"
  }
 },
 "nbformat": 4,
 "nbformat_minor": 2
}
