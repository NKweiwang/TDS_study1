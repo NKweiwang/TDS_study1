{
 "cells": [
  {
   "cell_type": "code",
   "execution_count": 25,
   "metadata": {
    "collapsed": true
   },
   "outputs": [],
   "source": [
    "Map = [\n",
    "    [1,1,0,0,1],\n",
    "    [1,1,0,0,0],\n",
    "    [0,0,1,0,0],\n",
    "    [1,1,1,1,0],\n",
    "    [0,0,1,0,1]\n",
    "]"
   ]
  },
  {
   "cell_type": "code",
   "execution_count": 26,
   "metadata": {
    "collapsed": false
   },
   "outputs": [
    {
     "data": {
      "text/plain": [
       "4"
      ]
     },
     "execution_count": 26,
     "metadata": {},
     "output_type": "execute_result"
    }
   ],
   "source": [
    "def sink(i,j,Map,path):\n",
    "    if Map[i][j] == 0:\n",
    "        return\n",
    "    if Map[i][j] == 1:\n",
    "        path.append((i,j))\n",
    "    if i-1 >=0 and Map[i-1][j]==1 and (i-1,j) not in path:\n",
    "        #print(i-1,j)\n",
    "        #path.append((i-1,j))\n",
    "        sink(i-1,j,Map,path)\n",
    "    if j-1 >=0 and Map[i][j-1]==1 and (i,j-1) not in path:\n",
    "        #print(i,j-1)\n",
    "        #path.append((i,j-1))\n",
    "        sink(i,j-1,Map,path)\n",
    "    if i+1 < len(Map) and Map[i+1][j]==1 and (i+1,j) not in path:\n",
    "        #print(i+1,j)\n",
    "        #path.append((i+1,j))\n",
    "        sink(i+1,j,Map,path)\n",
    "    if j+1 < len(Map[0]) and Map[i][j+1]==1 and(i,j+1) not in path:\n",
    "        #print(i,j+1)\n",
    "        #path.append((i,j+1))\n",
    "        sink(i,j+1,Map,path)\n",
    "count = 0\n",
    "for i in range(len(Map)):\n",
    "    for j in range(len(Map[0])):\n",
    "        if Map[i][j] == 1:\n",
    "            path = []\n",
    "            count = count + 1\n",
    "            sink(i,j,Map,path)\n",
    "            for t in path:\n",
    "                Map[t[0]][t[1]]=0\n",
    "count"
   ]
  },
  {
   "cell_type": "code",
   "execution_count": 14,
   "metadata": {
    "collapsed": false
   },
   "outputs": [
    {
     "data": {
      "text/plain": [
       "False"
      ]
     },
     "execution_count": 14,
     "metadata": {},
     "output_type": "execute_result"
    }
   ],
   "source": [
    "path = [(1,2),(2,3)]\n",
    "(1,2) not in path"
   ]
  }
 ],
 "metadata": {
  "kernelspec": {
   "display_name": "Python 3",
   "language": "python",
   "name": "python3"
  },
  "language_info": {
   "codemirror_mode": {
    "name": "ipython",
    "version": 3
   },
   "file_extension": ".py",
   "mimetype": "text/x-python",
   "name": "python",
   "nbconvert_exporter": "python",
   "pygments_lexer": "ipython3",
   "version": "3.6.0"
  }
 },
 "nbformat": 4,
 "nbformat_minor": 2
}
