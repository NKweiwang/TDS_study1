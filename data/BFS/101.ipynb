{
 "cells": [
  {
   "cell_type": "code",
   "execution_count": 1,
   "metadata": {
    "collapsed": true
   },
   "outputs": [],
   "source": [
    "class TreeNode(object):\n",
    "    def __init__(self, x):\n",
    "        self.val = x\n",
    "        self.left = None\n",
    "        self.right = None"
   ]
  },
  {
   "cell_type": "code",
   "execution_count": 21,
   "metadata": {
    "collapsed": true
   },
   "outputs": [],
   "source": [
    "t1 = TreeNode(1)\n",
    "t1.left = TreeNode(1)\n",
    "t1.left.left = TreeNode(3)\n",
    "#t1.left.right = TreeNode(1)\n",
    "t1.right = TreeNode(1)\n",
    "t1.right.left = TreeNode(1)\n",
    "t1.right.right = TreeNode(3)"
   ]
  },
  {
   "cell_type": "code",
   "execution_count": 24,
   "metadata": {
    "collapsed": false
   },
   "outputs": [
    {
     "name": "stdout",
     "output_type": "stream",
     "text": [
      "[1]\n",
      "[1, 1]\n",
      "[3, 1, 3]\n"
     ]
    }
   ],
   "source": [
    "crt = [t1]\n",
    "while any(i != None for i in crt):\n",
    "    print([i.val for i in crt if i != None])\n",
    "    crt_1 = []\n",
    "    for i in crt:\n",
    "        if i != None:\n",
    "            crt_1.append(i.left)\n",
    "            crt_1.append(i.right)\n",
    "#         else:\n",
    "#             crt_1.append(None)\n",
    "#             crt_1.append(None)\n",
    "    crt = crt_1\n",
    "\n",
    "  \n"
   ]
  },
  {
   "cell_type": "code",
   "execution_count": 8,
   "metadata": {
    "collapsed": false
   },
   "outputs": [
    {
     "data": {
      "text/plain": [
       "1"
      ]
     },
     "execution_count": 8,
     "metadata": {},
     "output_type": "execute_result"
    }
   ],
   "source": [
    "crt = []\n",
    "crt.append(t1.left.left.left)\n",
    "len(crt)"
   ]
  }
 ],
 "metadata": {
  "kernelspec": {
   "display_name": "Python 3",
   "language": "python",
   "name": "python3"
  },
  "language_info": {
   "codemirror_mode": {
    "name": "ipython",
    "version": 3
   },
   "file_extension": ".py",
   "mimetype": "text/x-python",
   "name": "python",
   "nbconvert_exporter": "python",
   "pygments_lexer": "ipython3",
   "version": "3.6.0"
  }
 },
 "nbformat": 4,
 "nbformat_minor": 2
}
