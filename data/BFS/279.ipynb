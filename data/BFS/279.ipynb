{
 "cells": [
  {
   "cell_type": "code",
   "execution_count": 9,
   "metadata": {
    "collapsed": false
   },
   "outputs": [
    {
     "data": {
      "text/plain": [
       "[[1, 1]]"
      ]
     },
     "execution_count": 9,
     "metadata": {},
     "output_type": "execute_result"
    }
   ],
   "source": [
    "T = 2\n",
    "nums = [i for i in range(1,int(T**(0.5))+1)]\n",
    "res = []\n",
    "path = []\n",
    "def findK(T,i,nums,res,path):\n",
    "    if T<0:\n",
    "        return \n",
    "    if T == 0 and len(res) == 0:\n",
    "        res.append(path)\n",
    "        return\n",
    "    elif T==0 and len(path)<len(res[0]):\n",
    "        res.pop()\n",
    "        res.append(path)\n",
    "        return\n",
    "    for ii in range(i,len(nums)):\n",
    "        findK(T-nums[ii]**2,ii,nums,res,path+[nums[ii]])\n",
    "findK(T,0,nums,res,path)\n",
    "res\n",
    "    \n"
   ]
  }
 ],
 "metadata": {
  "kernelspec": {
   "display_name": "Python 3",
   "language": "python",
   "name": "python3"
  },
  "language_info": {
   "codemirror_mode": {
    "name": "ipython",
    "version": 3
   },
   "file_extension": ".py",
   "mimetype": "text/x-python",
   "name": "python",
   "nbconvert_exporter": "python",
   "pygments_lexer": "ipython3",
   "version": "3.6.0"
  }
 },
 "nbformat": 4,
 "nbformat_minor": 2
}
