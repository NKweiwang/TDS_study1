{
 "cells": [
  {
   "cell_type": "code",
   "execution_count": 2,
   "metadata": {
    "collapsed": true
   },
   "outputs": [],
   "source": [
    "class TreeNode(object):\n",
    "    def __init__(self, x):\n",
    "        self.val = x\n",
    "        self.left = None\n",
    "        self.right = None"
   ]
  },
  {
   "cell_type": "code",
   "execution_count": 3,
   "metadata": {
    "collapsed": false
   },
   "outputs": [],
   "source": [
    "t1 = TreeNode(1)\n",
    "t1.left = TreeNode(2)\n",
    "#t1.left.left = TreeNode(3)\n",
    "t1.left.right = TreeNode(5)\n",
    "t1.right = TreeNode(3)\n",
    "t1.right.left = TreeNode(7)\n",
    "t1.right.right = TreeNode(4)\n",
    "t1.left.right.left = TreeNode(6)"
   ]
  },
  {
   "cell_type": "code",
   "execution_count": 13,
   "metadata": {
    "collapsed": false
   },
   "outputs": [
    {
     "data": {
      "text/plain": [
       "[1, 3, 4, 6]"
      ]
     },
     "execution_count": 13,
     "metadata": {},
     "output_type": "execute_result"
    }
   ],
   "source": [
    "crt = [t1]\n",
    "res = []\n",
    "while any(i!=None for i in crt):\n",
    "    temp = ([i.val for i in crt if i!=None])\n",
    "    res.append(temp[-1])\n",
    "    crt_new = []\n",
    "    for i in crt:\n",
    "        if i != None:\n",
    "            crt_new.append(i.left)\n",
    "            crt_new.append(i.right)\n",
    "    crt = crt_new\n",
    "res"
   ]
  },
  {
   "cell_type": "code",
   "execution_count": 6,
   "metadata": {
    "collapsed": false
   },
   "outputs": [
    {
     "data": {
      "text/plain": [
       "True"
      ]
     },
     "execution_count": 6,
     "metadata": {},
     "output_type": "execute_result"
    }
   ],
   "source": [
    "any(i!=None for i in crt)"
   ]
  }
 ],
 "metadata": {
  "kernelspec": {
   "display_name": "Python 3",
   "language": "python",
   "name": "python3"
  },
  "language_info": {
   "codemirror_mode": {
    "name": "ipython",
    "version": 3
   },
   "file_extension": ".py",
   "mimetype": "text/x-python",
   "name": "python",
   "nbconvert_exporter": "python",
   "pygments_lexer": "ipython3",
   "version": "3.6.0"
  }
 },
 "nbformat": 4,
 "nbformat_minor": 2
}
