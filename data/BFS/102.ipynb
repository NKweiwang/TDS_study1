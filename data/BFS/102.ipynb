{
 "cells": [
  {
   "cell_type": "code",
   "execution_count": 1,
   "metadata": {
    "collapsed": true,
    "deletable": true,
    "editable": true
   },
   "outputs": [],
   "source": [
    "class TreeNode(object):\n",
    "    def __init__(self, x):\n",
    "        self.val = x\n",
    "        self.left = None\n",
    "        self.right = None\n"
   ]
  },
  {
   "cell_type": "code",
   "execution_count": 3,
   "metadata": {
    "collapsed": true,
    "deletable": true,
    "editable": true
   },
   "outputs": [],
   "source": [
    "t1 = TreeNode(3)\n",
    "t1.left = TreeNode(9)\n",
    "#t1.left.left = TreeNode(3)\n",
    "#t1.left.right = TreeNode(1)\n",
    "t1.right = TreeNode(20)\n",
    "t1.right.left = TreeNode(15)\n",
    "t1.right.right = TreeNode(7)"
   ]
  },
  {
   "cell_type": "code",
   "execution_count": 2,
   "metadata": {
    "collapsed": false
   },
   "outputs": [
    {
     "data": {
      "text/plain": [
       "'1'"
      ]
     },
     "execution_count": 2,
     "metadata": {},
     "output_type": "execute_result"
    }
   ],
   "source": [
    "grid = [\"11110\",\"11010\",\"11000\",\"00000\"]\n",
    "grid[1][1]"
   ]
  },
  {
   "cell_type": "code",
   "execution_count": 15,
   "metadata": {
    "collapsed": false,
    "deletable": true,
    "editable": true
   },
   "outputs": [
    {
     "data": {
      "text/plain": [
       "[[15, 7], [20, 9], [3]]"
      ]
     },
     "execution_count": 15,
     "metadata": {},
     "output_type": "execute_result"
    }
   ],
   "source": [
    "crt = [t1]\n",
    "res = []\n",
    "tau = 0\n",
    "while len(crt)!=0:\n",
    "    tau += 1\n",
    "    if tau % 2 == 0:\n",
    "        temp=[crt[i].val for i in range(len(crt)-1,-1,-1) if crt[i]!=None]\n",
    "    else:\n",
    "        temp = [i.val for i in crt if i!=None]\n",
    "    res.append(temp)\n",
    "    crt_1 = []\n",
    "    for i in crt:\n",
    "        if i != None:\n",
    "            crt_1.append(i.left)\n",
    "            crt_1.append(i.right)\n",
    "    crt = crt_1\n",
    "#[i for i in res if len(i)>0]\n",
    "[res[i] for i in range(len(res)-1,-1,-1) if len(res[i])>0]"
   ]
  }
 ],
 "metadata": {
  "kernelspec": {
   "display_name": "Python 3",
   "language": "python",
   "name": "python3"
  },
  "language_info": {
   "codemirror_mode": {
    "name": "ipython",
    "version": 3
   },
   "file_extension": ".py",
   "mimetype": "text/x-python",
   "name": "python",
   "nbconvert_exporter": "python",
   "pygments_lexer": "ipython3",
   "version": "3.6.0"
  }
 },
 "nbformat": 4,
 "nbformat_minor": 2
}
