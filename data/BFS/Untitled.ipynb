{
 "cells": [
  {
   "cell_type": "code",
   "execution_count": 10,
   "metadata": {},
   "outputs": [
    {
     "data": {
      "text/plain": [
       "True"
      ]
     },
     "execution_count": 10,
     "metadata": {},
     "output_type": "execute_result"
    }
   ],
   "source": [
    "def checkedge(A,B):\n",
    "    i = 0\n",
    "    while i < len(B) and A[i] == B[i]:\n",
    "        i += 1\n",
    "    if i > len(B):\n",
    "        return True\n",
    "    return A[i+1:len(A)] == B[i:len(B)]\n",
    "checkedge('abc','ab')"
   ]
  },
  {
   "cell_type": "code",
   "execution_count": null,
   "metadata": {
    "collapsed": true
   },
   "outputs": [],
   "source": [
    "# Complete the function below.\n",
    "# A longer than B\n",
    "def checkedge(A,B):\n",
    "    i = 0\n",
    "    while i < len(B) and A[i] == B[i]:\n",
    "        i += 1\n",
    "    if i > len(B):\n",
    "        return True\n",
    "    return A[i+1:len(A)] == B[i:len(B)]\n",
    "\n",
    "# aggregate the length \n",
    "# A longer than B\n",
    "def agg(listA, listB,countB):\n",
    "    countA = [0] * len(listA)\n",
    "    if len(listB) ==0:\n",
    "        countA = [0] * len(listA)\n",
    "        return countA\n",
    "    for i in range(len(listA)):\n",
    "        index = [j for j in range(len(listB)) if checkedge(listA[i],listB[j])]\n",
    "        if len(index) == 0:\n",
    "            countA[i] = 0\n",
    "        else:\n",
    "            countA[i] = 1 + max([countB[t] for t in index])\n",
    "    return countA\n",
    "        \n",
    "def longestChain(words):\n",
    "    start, end = min([len(t) for t in words]), max([len(t) for t in words])\n",
    "    countDic = {}\n",
    "    for w in words:\n",
    "        if len(w) in countDic:\n",
    "            countDic[len(w)].append(w)\n",
    "        else:\n",
    "            countDic[len(w)] = [w]\n",
    "    sortedindex = sorted(countDic.keys())\n",
    "    lastlist = countDic[start]\n",
    "    lastcount = [1] * len(lastlist)\n",
    "    maxcount = max(lastcount)\n",
    "    for ii in range(1,len(sortedindex)):\n",
    "        i = sortedindex[ii]\n",
    "        crtlist = countDic.get(i,[])\n",
    "        if not(i-1 in countDic):\n",
    "            crtcount = []\n",
    "            crtmax = 0\n",
    "        else:\n",
    "            crtcount = agg(crtlist, lastlist,lastcount)\n",
    "            crtmax = max(crtcount)\n",
    "        lastlist = crtlist\n",
    "        lastcount = crtcount\n",
    "        maxcount = max(maxcount,crtmax)\n",
    "    return maxcount\n",
    "        \n",
    "   "
   ]
  },
  {
   "cell_type": "code",
   "execution_count": 11,
   "metadata": {},
   "outputs": [
    {
     "ename": "ValueError",
     "evalue": "max() arg is an empty sequence",
     "output_type": "error",
     "traceback": [
      "\u001b[0;31m---------------------------------------------------------------------------\u001b[0m",
      "\u001b[0;31mValueError\u001b[0m                                Traceback (most recent call last)",
      "\u001b[0;32m<ipython-input-11-8d2766aecf92>\u001b[0m in \u001b[0;36m<module>\u001b[0;34m()\u001b[0m\n\u001b[0;32m----> 1\u001b[0;31m \u001b[0mmax\u001b[0m\u001b[0;34m(\u001b[0m\u001b[0;34m[\u001b[0m\u001b[0;34m]\u001b[0m\u001b[0;34m)\u001b[0m\u001b[0;34m\u001b[0m\u001b[0m\n\u001b[0m",
      "\u001b[0;31mValueError\u001b[0m: max() arg is an empty sequence"
     ]
    }
   ],
   "source": [
    "max([])"
   ]
  },
  {
   "cell_type": "code",
   "execution_count": null,
   "metadata": {
    "collapsed": true
   },
   "outputs": [],
   "source": [
    "def longestChain(words):\n",
    "    start, end = min([len(t) for t in words]), max([len(t) for t in words])\n",
    "    countDic = {}\n",
    "    for w in words:\n",
    "        if len(w) in countDic:\n",
    "            countDic[len(w)].append(w)\n",
    "        else:\n",
    "            countDic[len(w)] = [w]\n",
    "    sortedindex = sorted(countDic.keys())\n",
    "    lastlist = countDic[start]\n",
    "    lastcount = [1] * len(lastlist)\n",
    "    maxcount = max(lastcount)\n",
    "    for ii in range(1,len(sortedindex)):\n",
    "        i = sortedindex[ii]\n",
    "        crtlist = countDic.get(i,[])\n",
    "        if len(crtlist)==0:\n",
    "            crtcount = []\n",
    "            crtmax = 0\n",
    "        else:\n",
    "            crtcount = agg(crtlist, lastlist,lastcount)\n",
    "            crtmax = max(crtcount)\n",
    "        lastlist = crtlist\n",
    "        lastcount = crtcount\n",
    "        maxcount = max(maxcount,crtmax)\n",
    "    return maxcount\n",
    "        \n",
    "    \n",
    "\n"
   ]
  }
 ],
 "metadata": {
  "kernelspec": {
   "display_name": "Python 3",
   "language": "python",
   "name": "python3"
  },
  "language_info": {
   "codemirror_mode": {
    "name": "ipython",
    "version": 3
   },
   "file_extension": ".py",
   "mimetype": "text/x-python",
   "name": "python",
   "nbconvert_exporter": "python",
   "pygments_lexer": "ipython3",
   "version": "3.6.0"
  }
 },
 "nbformat": 4,
 "nbformat_minor": 2
}
