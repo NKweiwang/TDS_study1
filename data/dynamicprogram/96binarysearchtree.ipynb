{
 "cells": [
  {
   "cell_type": "code",
   "execution_count": 4,
   "metadata": {
    "collapsed": false
   },
   "outputs": [
    {
     "data": {
      "text/plain": [
       "[5, 6, 4, 1]"
      ]
     },
     "execution_count": 4,
     "metadata": {},
     "output_type": "execute_result"
    }
   ],
   "source": [
    "def bts(n):\n",
    "    if n ==1:\n",
    "        return [1]\n",
    "    if n == 2:\n",
    "        return [1,1]\n",
    "    pre = bts(n-1)\n",
    "    pretotal = sum(pre)\n",
    "    for i in range(len(pre)):\n",
    "        pre[i] = pre[i]*(len(pre) - i)\n",
    "    pre = [pretotal] + pre\n",
    "    return pre\n",
    "bts(4)"
   ]
  },
  {
   "cell_type": "code",
   "execution_count": null,
   "metadata": {
    "collapsed": true
   },
   "outputs": [],
   "source": [
    "/**\n",
    " * Taking 1~n as root respectively:\n",
    " *      1 as root: # of trees = F(0) * F(n-1)  // F(0) == 1\n",
    " *      2 as root: # of trees = F(1) * F(n-2) \n",
    " *      3 as root: # of trees = F(2) * F(n-3)\n",
    " *      ...\n",
    " *      n-1 as root: # of trees = F(n-2) * F(1)\n",
    " *      n as root:   # of trees = F(n-1) * F(0)\n",
    " *\n",
    " * So, the formulation is:\n",
    " *      F(n) = F(0) * F(n-1) + F(1) * F(n-2) + F(2) * F(n-3) + ... + F(n-2) * F(1) + F(n-1) * F(0)\n",
    " */\n",
    "\n",
    "int numTrees(int n) {\n",
    "    int dp[n+1];\n",
    "    dp[0] = dp[1] = 1;\n",
    "    for (int i=2; i<=n; i++) {\n",
    "        dp[i] = 0;\n",
    "        for (int j=1; j<=i; j++) {\n",
    "            dp[i] += dp[j-1] * dp[i-j];\n",
    "        }\n",
    "    }\n",
    "    return dp[n];\n",
    "}"
   ]
  }
 ],
 "metadata": {
  "kernelspec": {
   "display_name": "Python 3",
   "language": "python",
   "name": "python3"
  },
  "language_info": {
   "codemirror_mode": {
    "name": "ipython",
    "version": 3
   },
   "file_extension": ".py",
   "mimetype": "text/x-python",
   "name": "python",
   "nbconvert_exporter": "python",
   "pygments_lexer": "ipython3",
   "version": "3.6.0"
  }
 },
 "nbformat": 4,
 "nbformat_minor": 2
}
