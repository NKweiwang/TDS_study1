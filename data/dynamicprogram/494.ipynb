{
 "cells": [
  {
   "cell_type": "code",
   "execution_count": 35,
   "metadata": {
    "collapsed": false
   },
   "outputs": [
    {
     "name": "stdout",
     "output_type": "stream",
     "text": [
      "[1, 1, 1] 3\n"
     ]
    },
    {
     "data": {
      "text/plain": [
       "2"
      ]
     },
     "execution_count": 35,
     "metadata": {},
     "output_type": "execute_result"
    }
   ],
   "source": [
    "nums = [0, 1,1,1]\n",
    "nums.sort()\n",
    "c0 = sum(1 for i in nums if i==0)\n",
    "nums1 = [i for i in nums if i!=0]\n",
    "S = 3\n",
    "\n",
    "def find(nums,S):\n",
    "    print(nums,S)\n",
    "    if sum(nums)==S or sum(nums)*(-1)==S:\n",
    "        return 1\n",
    "    if len(nums)==0:\n",
    "        return 0\n",
    "    return find(nums[1:],S+nums[0])+ find(nums[1:],S-nums[0])\n",
    "2**(c0)*find(nums1,S)"
   ]
  }
 ],
 "metadata": {
  "kernelspec": {
   "display_name": "Python 3",
   "language": "python",
   "name": "python3"
  },
  "language_info": {
   "codemirror_mode": {
    "name": "ipython",
    "version": 3
   },
   "file_extension": ".py",
   "mimetype": "text/x-python",
   "name": "python",
   "nbconvert_exporter": "python",
   "pygments_lexer": "ipython3",
   "version": "3.6.0"
  }
 },
 "nbformat": 4,
 "nbformat_minor": 2
}
