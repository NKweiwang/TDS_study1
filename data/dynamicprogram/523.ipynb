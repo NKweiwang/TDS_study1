{
 "cells": [
  {
   "cell_type": "code",
   "execution_count": 9,
   "metadata": {
    "collapsed": false
   },
   "outputs": [
    {
     "data": {
      "text/plain": [
       "[5, 1, 5, 5, 3]"
      ]
     },
     "execution_count": 9,
     "metadata": {},
     "output_type": "execute_result"
    }
   ],
   "source": [
    "nums = [23, 2, 4,6, 4]\n",
    "k=6\n",
    "num_1 = [i%k for i in nums]\n",
    "cusum = [num_1[0]]\n",
    "for i in range(1,len(num_1)):\n",
    "    cusum = cusum + [(cusum[-1] + num_1[i])%6]\n",
    "# TF = 0\n",
    "# for i in range(1,len(cusum)):\n",
    "#     for j in range(i):\n",
    "#         if (cusum[i] - cusum[j])%6 ==0 and i - j >=2:\n",
    "#             TF = 1\n",
    "# TF\n",
    "\n",
    "cusum"
   ]
  },
  {
   "cell_type": "code",
   "execution_count": null,
   "metadata": {
    "collapsed": true
   },
   "outputs": [],
   "source": [
    "class Solution(object):\n",
    "    def checkSubarraySum(self, nums, k):\n",
    "\n",
    "        \n",
    "        if k == 0:\n",
    "            # if two continuous zeros in nums, return True\n",
    "            # time O(n)\n",
    "            for i in range(0, len(nums) - 1):\n",
    "                if nums[i] == 0 and nums[i+1] == 0:\n",
    "                    return True\n",
    "            return False\n",
    "        \n",
    "        k = abs(k)\n",
    "        if len(nums) >= k * 2:\n",
    "            return True\n",
    "        \n",
    "        #if n >= 2k: return True\n",
    "        #if n < 2k:  time O(n) is O(k)  \n",
    "\n",
    "        sum = [0]\n",
    "        for x in nums:\n",
    "            sum.append((sum[-1] + x) % k)\n",
    "        \n",
    "        Dict = {}\n",
    "        for i in range(0, len(sum)):\n",
    "            if Dict.has_key(sum[i]):\n",
    "                if i - Dict[sum[i]] > 1:\n",
    "                    return True\n",
    "            else:\n",
    "                Dict[sum[i]] = i\n",
    "        \n",
    "        return False"
   ]
  }
 ],
 "metadata": {
  "kernelspec": {
   "display_name": "Python 3",
   "language": "python",
   "name": "python3"
  },
  "language_info": {
   "codemirror_mode": {
    "name": "ipython",
    "version": 3
   },
   "file_extension": ".py",
   "mimetype": "text/x-python",
   "name": "python",
   "nbconvert_exporter": "python",
   "pygments_lexer": "ipython3",
   "version": "3.6.0"
  }
 },
 "nbformat": 4,
 "nbformat_minor": 2
}
