{
 "cells": [
  {
   "cell_type": "code",
   "execution_count": 16,
   "metadata": {
    "collapsed": false
   },
   "outputs": [
    {
     "data": {
      "text/plain": [
       "defaultdict(int, {1: 0})"
      ]
     },
     "execution_count": 16,
     "metadata": {},
     "output_type": "execute_result"
    }
   ],
   "source": [
    "from collections import defaultdict\n",
    "A = [2,4,6]\n",
    "dp = [defaultdict(int) for i in range(len(A))]\n",
    "res = 0\n",
    "for i in range(1, len(A)):\n",
    "    for j in range(i):\n",
    "        step = A[i]-A[j]\n",
    "        dp[i][step] += 1\n",
    "        if step in dp[j]:\n",
    "            dp[i][step]+= dp[j][step]\n",
    "            res += dp[j][step]\n",
    "        #print(dp)\n"
   ]
  }
 ],
 "metadata": {
  "kernelspec": {
   "display_name": "Python 3",
   "language": "python",
   "name": "python3"
  },
  "language_info": {
   "codemirror_mode": {
    "name": "ipython",
    "version": 3
   },
   "file_extension": ".py",
   "mimetype": "text/x-python",
   "name": "python",
   "nbconvert_exporter": "python",
   "pygments_lexer": "ipython3",
   "version": "3.6.0"
  }
 },
 "nbformat": 4,
 "nbformat_minor": 2
}
