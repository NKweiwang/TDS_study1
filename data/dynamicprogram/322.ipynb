{
 "cells": [
  {
   "cell_type": "code",
   "execution_count": 45,
   "metadata": {
    "collapsed": false,
    "deletable": true,
    "editable": true
   },
   "outputs": [
    {
     "data": {
      "text/plain": [
       "[]"
      ]
     },
     "execution_count": 45,
     "metadata": {},
     "output_type": "execute_result"
    }
   ],
   "source": [
    "nums = [83,186,408,419]\n",
    "nums = sorted(nums, key=int, reverse=True)\n",
    "K = 81\n",
    "res = []\n",
    "def change(nums,i,K,result,res):\n",
    "    if K < 0:\n",
    "        return\n",
    "    if K == 0:\n",
    "        res.append(result)\n",
    "        return\n",
    "    for ii in range(i,len(nums)):\n",
    "        change(nums,ii,K-nums[ii],result + [nums[ii]],res)\n",
    "change(nums,0,K,[],res)\n",
    "\n",
    "([len(i) for i in res])"
   ]
  },
  {
   "cell_type": "code",
   "execution_count": 29,
   "metadata": {
    "collapsed": false
   },
   "outputs": [
    {
     "data": {
      "text/plain": [
       "[419, 408, 186, 83]"
      ]
     },
     "execution_count": 29,
     "metadata": {},
     "output_type": "execute_result"
    }
   ],
   "source": [
    "nums = [83,186,408,419]\n",
    "sorted(nums, key=int, reverse=True)"
   ]
  }
 ],
 "metadata": {
  "kernelspec": {
   "display_name": "Python 3",
   "language": "python",
   "name": "python3"
  },
  "language_info": {
   "codemirror_mode": {
    "name": "ipython",
    "version": 3
   },
   "file_extension": ".py",
   "mimetype": "text/x-python",
   "name": "python",
   "nbconvert_exporter": "python",
   "pygments_lexer": "ipython3",
   "version": "3.6.0"
  }
 },
 "nbformat": 4,
 "nbformat_minor": 2
}
