{
 "cells": [
  {
   "cell_type": "code",
   "execution_count": 17,
   "metadata": {
    "collapsed": false
   },
   "outputs": [
    {
     "data": {
      "text/plain": [
       "4"
      ]
     },
     "execution_count": 17,
     "metadata": {},
     "output_type": "execute_result"
    }
   ],
   "source": [
    "nums = [2,3,4,16,27,81,243]\n",
    "nums.sort()\n",
    "dp = [0]* len(nums)\n",
    "dp[0] = 1\n",
    "for i in range(1,len(nums)):\n",
    "    count = 1\n",
    "    for j in range(i-1,-1,-1):\n",
    "        if nums[i]%nums[j] == 0:\n",
    "            count += 1\n",
    "    crtmax = max(dp[0:i])\n",
    "    if count > crtmax:\n",
    "        dp[i] = crtmax + 1\n",
    "    else:\n",
    "        dp[i] = crtmax\n",
    "dp[-1]"
   ]
  },
  {
   "cell_type": "code",
   "execution_count": 15,
   "metadata": {
    "collapsed": false
   },
   "outputs": [
    {
     "data": {
      "text/plain": [
       "[]"
      ]
     },
     "execution_count": 15,
     "metadata": {},
     "output_type": "execute_result"
    }
   ],
   "source": [
    "list(range(-1,-1,-1))"
   ]
  }
 ],
 "metadata": {
  "kernelspec": {
   "display_name": "Python 3",
   "language": "python",
   "name": "python3"
  },
  "language_info": {
   "codemirror_mode": {
    "name": "ipython",
    "version": 3
   },
   "file_extension": ".py",
   "mimetype": "text/x-python",
   "name": "python",
   "nbconvert_exporter": "python",
   "pygments_lexer": "ipython3",
   "version": "3.6.0"
  }
 },
 "nbformat": 4,
 "nbformat_minor": 2
}
