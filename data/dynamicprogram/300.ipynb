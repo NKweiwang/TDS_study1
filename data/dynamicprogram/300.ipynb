{
 "cells": [
  {
   "cell_type": "code",
   "execution_count": 28,
   "metadata": {
    "collapsed": false
   },
   "outputs": [
    {
     "data": {
      "text/plain": [
       "[[1, 2, 4]]"
      ]
     },
     "execution_count": 28,
     "metadata": {},
     "output_type": "execute_result"
    }
   ],
   "source": [
    "nums = [1,2,4]\n",
    "\n",
    "res = [[]]\n",
    "\n",
    "def findsub(nums,i,result,res):\n",
    "    if len(result) >1 and result[-1]<result[-2]:\n",
    "        result.pop()\n",
    "        if len(result)> len(res[0]):\n",
    "            res.append(result)\n",
    "            res.pop(0)\n",
    "        return\n",
    "    if i == len(nums)-1:\n",
    "        if len(result)> len(res[0]):\n",
    "            res.append(result)\n",
    "            res.pop(0)\n",
    "        return\n",
    "    for ii in range(i+1,len(nums)):\n",
    "        findsub(nums,ii,result+[nums[ii]],res)\n",
    "findsub(nums,-1,[],res)\n",
    "res"
   ]
  },
  {
   "cell_type": "code",
   "execution_count": 32,
   "metadata": {
    "collapsed": false
   },
   "outputs": [
    {
     "data": {
      "text/plain": [
       "0"
      ]
     },
     "execution_count": 32,
     "metadata": {},
     "output_type": "execute_result"
    }
   ],
   "source": [
    "nums = [1,2,4]\n",
    "\n",
    "res = 0\n",
    "\n",
    "def findsub(nums,i,result,res):\n",
    "    if len(result) >1 and result[-1]<result[-2]:\n",
    "        result.pop()\n",
    "        if len(result)> res:\n",
    "            res = max(len(result),res)\n",
    "        return\n",
    "    if i == len(nums)-1:\n",
    "        if len(result)> res:\n",
    "            res = max(len(result),res)\n",
    "        return\n",
    "    for ii in range(i+1,len(nums)):\n",
    "        findsub(nums,ii,result+[nums[ii]],res)\n",
    "findsub(nums,-1,[],res)\n",
    "res"
   ]
  }
 ],
 "metadata": {
  "kernelspec": {
   "display_name": "Python 3",
   "language": "python",
   "name": "python3"
  },
  "language_info": {
   "codemirror_mode": {
    "name": "ipython",
    "version": 3
   },
   "file_extension": ".py",
   "mimetype": "text/x-python",
   "name": "python",
   "nbconvert_exporter": "python",
   "pygments_lexer": "ipython3",
   "version": "3.6.0"
  }
 },
 "nbformat": 4,
 "nbformat_minor": 2
}
