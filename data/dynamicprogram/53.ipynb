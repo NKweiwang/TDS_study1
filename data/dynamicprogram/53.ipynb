{
 "cells": [
  {
   "cell_type": "code",
   "execution_count": 22,
   "metadata": {
    "collapsed": false
   },
   "outputs": [
    {
     "name": "stdout",
     "output_type": "stream",
     "text": [
      "[-2, -5]\n"
     ]
    },
    {
     "data": {
      "text/plain": [
       "0"
      ]
     },
     "execution_count": 22,
     "metadata": {},
     "output_type": "execute_result"
    }
   ],
   "source": [
    "nums = [-2,1,-3,4,-1,2,1,-5,4]\n",
    "nums = [-2,-3]\n",
    "cusums = [0]\n",
    "for i in nums:\n",
    "    cusums = cusums + [cusums[-1]+i]\n",
    "cusums.pop(0)\n",
    "# then try to find two have largest difference\n",
    "print(cusums)\n",
    "crtmax = 0\n",
    "crtmin = 0\n",
    "finalmax = 0\n",
    "\n",
    "for i in cusums:\n",
    "    crtmin = min(crtmin,i)\n",
    "    crtmax = i - crtmin\n",
    "    finalmax = max(crtmax,finalmax)\n",
    "finalmax"
   ]
  }
 ],
 "metadata": {
  "kernelspec": {
   "display_name": "Python 3",
   "language": "python",
   "name": "python3"
  },
  "language_info": {
   "codemirror_mode": {
    "name": "ipython",
    "version": 3
   },
   "file_extension": ".py",
   "mimetype": "text/x-python",
   "name": "python",
   "nbconvert_exporter": "python",
   "pygments_lexer": "ipython3",
   "version": "3.6.0"
  }
 },
 "nbformat": 4,
 "nbformat_minor": 2
}
