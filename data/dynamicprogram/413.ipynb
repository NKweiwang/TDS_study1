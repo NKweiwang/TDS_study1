{
 "cells": [
  {
   "cell_type": "code",
   "execution_count": 6,
   "metadata": {
    "collapsed": false
   },
   "outputs": [
    {
     "data": {
      "text/plain": [
       "[[1, 2, 3],\n",
       " [1, 2, 3, 4],\n",
       " [1, 2, 3, 4, 5],\n",
       " [1, 2, 3, 4, 5, 6],\n",
       " [1, 3, 5],\n",
       " [2, 3, 4],\n",
       " [2, 3, 4, 5],\n",
       " [2, 3, 4, 5, 6],\n",
       " [2, 4, 6],\n",
       " [3, 4, 5],\n",
       " [3, 4, 5, 6],\n",
       " [4, 5, 6]]"
      ]
     },
     "execution_count": 6,
     "metadata": {},
     "output_type": "execute_result"
    }
   ],
   "source": [
    "nums = [1,2,3,4,5,6]\n",
    "def check(nums):\n",
    "    if len(nums) < 3:\n",
    "        return False\n",
    "    dif = nums[1] - nums[0]\n",
    "    for i in range(2,len(nums)):\n",
    "        if nums[i] - nums[i-1] != dif:\n",
    "            return False\n",
    "    return True\n",
    "\n",
    "res = []\n",
    "def find(nums,i,result,res):\n",
    "    if len(result)>=3 and check(result) == False :\n",
    "        return\n",
    "    if check(result):\n",
    "        res.append(result)\n",
    "    for ii in range(i+1,len(nums)):\n",
    "        find(nums,ii,result + [nums[ii]],res)\n",
    "find(nums,-1,[],res)\n",
    "res"
   ]
  }
 ],
 "metadata": {
  "kernelspec": {
   "display_name": "Python 3",
   "language": "python",
   "name": "python3"
  },
  "language_info": {
   "codemirror_mode": {
    "name": "ipython",
    "version": 3
   },
   "file_extension": ".py",
   "mimetype": "text/x-python",
   "name": "python",
   "nbconvert_exporter": "python",
   "pygments_lexer": "ipython3",
   "version": "3.6.0"
  }
 },
 "nbformat": 4,
 "nbformat_minor": 2
}
