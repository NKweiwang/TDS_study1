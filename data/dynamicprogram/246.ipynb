{
 "cells": [
  {
   "cell_type": "code",
   "execution_count": 38,
   "metadata": {
    "collapsed": false
   },
   "outputs": [
    {
     "data": {
      "text/plain": [
       "1"
      ]
     },
     "execution_count": 38,
     "metadata": {},
     "output_type": "execute_result"
    }
   ],
   "source": [
    "def findK(n):\n",
    "    A1 = n//2\n",
    "    A2 = n//3\n",
    "    A3 = n//5\n",
    "    A12 = n//6\n",
    "    A13 = n//10\n",
    "    A23 = n//15\n",
    "    A123 = n//60\n",
    "    return 1 + A1+A2+A3 - A12 -A23 - A13 + A123\n",
    "\n",
    "def checkN(n):\n",
    "    if n == 1:\n",
    "        return True\n",
    "    if n%2 == 0 or n%3 == 0 or n%5 == 0:\n",
    "        return True\n",
    "    else:\n",
    "        return False\n",
    "\n",
    "def findN(n):\n",
    "    if n == 0:\n",
    "        return 0\n",
    "    \n",
    "    start = n\n",
    "    end = 2*n\n",
    "    if findK(start) == n:\n",
    "        if checkN(start):\n",
    "            return start\n",
    "        else:\n",
    "            return start-1\n",
    "    elif findK(end) == n:\n",
    "        if checkN(end):\n",
    "            return end\n",
    "        else:\n",
    "            return end-1\n",
    "    while start < end:\n",
    "        mid = (start + end)//2\n",
    "        if findK(mid) == n:\n",
    "            if checkN(mid):\n",
    "                return mid\n",
    "            else:\n",
    "                return mid -1\n",
    "        elif findK(mid) > n:\n",
    "            end = mid\n",
    "        else:\n",
    "            start = mid\n",
    "findN(1)"
   ]
  },
  {
   "cell_type": "code",
   "execution_count": 33,
   "metadata": {
    "collapsed": false
   },
   "outputs": [
    {
     "data": {
      "text/plain": [
       "2"
      ]
     },
     "execution_count": 33,
     "metadata": {},
     "output_type": "execute_result"
    }
   ],
   "source": [
    "5%3"
   ]
  }
 ],
 "metadata": {
  "kernelspec": {
   "display_name": "Python 3",
   "language": "python",
   "name": "python3"
  },
  "language_info": {
   "codemirror_mode": {
    "name": "ipython",
    "version": 3
   },
   "file_extension": ".py",
   "mimetype": "text/x-python",
   "name": "python",
   "nbconvert_exporter": "python",
   "pygments_lexer": "ipython3",
   "version": "3.6.0"
  }
 },
 "nbformat": 4,
 "nbformat_minor": 2
}
