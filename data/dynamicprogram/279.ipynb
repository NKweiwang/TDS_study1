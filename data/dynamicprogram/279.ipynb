{
 "cells": [
  {
   "cell_type": "code",
   "execution_count": 33,
   "metadata": {
    "collapsed": false
   },
   "outputs": [
    {
     "data": {
      "text/plain": [
       "[[9, 25, 121]]"
      ]
     },
     "execution_count": 33,
     "metadata": {},
     "output_type": "execute_result"
    }
   ],
   "source": [
    "res = []\n",
    "\n",
    "def findk(num,i,res,result):\n",
    "    if num < 0:\n",
    "        return\n",
    "    if num ==0:\n",
    "        n1 = len(result)\n",
    "        if len(res) == 0:\n",
    "            res.append(result)\n",
    "        elif len(res[0]) > n1:\n",
    "            res.append(result)\n",
    "            res.pop(0)\n",
    "        return\n",
    "    for ii in list(range(i,int(num ** (0.5))+1)):\n",
    "        findk(num-ii**2,ii,res,result+[ii**2])\n",
    "findk(155,1,res,[])\n",
    "res"
   ]
  }
 ],
 "metadata": {
  "kernelspec": {
   "display_name": "Python 3",
   "language": "python",
   "name": "python3"
  },
  "language_info": {
   "codemirror_mode": {
    "name": "ipython",
    "version": 3
   },
   "file_extension": ".py",
   "mimetype": "text/x-python",
   "name": "python",
   "nbconvert_exporter": "python",
   "pygments_lexer": "ipython3",
   "version": "3.6.0"
  }
 },
 "nbformat": 4,
 "nbformat_minor": 2
}
