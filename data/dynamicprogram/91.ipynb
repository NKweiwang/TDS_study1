{
 "cells": [
  {
   "cell_type": "code",
   "execution_count": 67,
   "metadata": {
    "collapsed": false
   },
   "outputs": [
    {
     "name": "stdout",
     "output_type": "stream",
     "text": [
      "2\n"
     ]
    },
    {
     "data": {
      "text/plain": [
       "1"
      ]
     },
     "execution_count": 67,
     "metadata": {},
     "output_type": "execute_result"
    }
   ],
   "source": [
    "nums = '124342351425'\n",
    "\n",
    "\n",
    "def ways(nums):\n",
    "    if nums[0] == '0':\n",
    "        return 0\n",
    "    if len(nums) == 1:\n",
    "        return 1\n",
    "    if len(nums) == 2 and (int(nums[0]) > 2  and int(nums[1])==0):\n",
    "        print(\"1\")\n",
    "        return 0\n",
    "    if len(nums) == 2 and (int(nums[0]) > 2  or int(nums) > 26 or int(nums[1])==0):\n",
    "        print(\"2\")\n",
    "        return 1\n",
    "    if len(nums) == 2 and ((int(nums[0]) == 2 and int(nums[1]) <= 6)or (int(nums[0]) == 1) ):\n",
    "        print(\"3\")\n",
    "        return 2\n",
    "    if  (int(nums[0]) > 2  or int(nums) > 26 or int(nums[1])==0):\n",
    "        return ways(nums[1:])\n",
    "    if (int(nums[0]) == 2 and int(nums[1]) <= 6)or (int(nums[0]) == 1) :\n",
    "        return (ways(nums[1:]) + ways(nums[2:]))\n",
    "ways('19963')"
   ]
  }
 ],
 "metadata": {
  "kernelspec": {
   "display_name": "Python 3",
   "language": "python",
   "name": "python3"
  },
  "language_info": {
   "codemirror_mode": {
    "name": "ipython",
    "version": 3
   },
   "file_extension": ".py",
   "mimetype": "text/x-python",
   "name": "python",
   "nbconvert_exporter": "python",
   "pygments_lexer": "ipython3",
   "version": "3.6.0"
  }
 },
 "nbformat": 4,
 "nbformat_minor": 2
}
