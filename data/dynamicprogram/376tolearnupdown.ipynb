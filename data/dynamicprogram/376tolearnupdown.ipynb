{
 "cells": [
  {
   "cell_type": "code",
   "execution_count": 2,
   "metadata": {
    "collapsed": false,
    "deletable": true,
    "editable": true
   },
   "outputs": [
    {
     "data": {
      "text/plain": [
       "[0, 1, -1, 1, 1, 1, -1, -1, 1, -1]"
      ]
     },
     "execution_count": 2,
     "metadata": {},
     "output_type": "execute_result"
    }
   ],
   "source": [
    "nums = [1,17,5,10,13,15,10,5,16,8]\n",
    "\n",
    "flen = 0\n",
    "crtmax = nums[0]\n",
    "crtmin = nums[0]\n",
    "inc = []\n",
    "dec = []\n",
    "for i in range(len(nums)):\n",
    "    if nums[i] > crtmax:\n",
    "        crtmax\n",
    "# I didn't make it right"
   ]
  },
  {
   "cell_type": "code",
   "execution_count": 13,
   "metadata": {
    "collapsed": false
   },
   "outputs": [
    {
     "name": "stdout",
     "output_type": "stream",
     "text": [
      "[3, 1, 17, 5, 10, 13, 15, 10, 10, 5, 5, 16, 8]\n",
      "[0, -1, 1, -1, 1, 1, 1, -1, 0, -1, 0, 1, -1]\n",
      "-1 1\n",
      "1 2\n",
      "-1 3\n",
      "1 4\n",
      "-1 5\n",
      "1 6\n",
      "-1 7\n"
     ]
    },
    {
     "data": {
      "text/plain": [
       "7"
      ]
     },
     "execution_count": 13,
     "metadata": {},
     "output_type": "execute_result"
    }
   ],
   "source": [
    "nums = [3,1,17,5,10,13,15,10,10,5,5,16,8]\n",
    "listmax = []\n",
    "listmin = []\n",
    "crtmax = nums[0]\n",
    "crtmin = nums[0]\n",
    "imax = [0]*len(nums)\n",
    "imin = [0]*len(nums)\n",
    "for i in range(1,len(nums)):\n",
    "    if nums[i] > nums[i-1]:\n",
    "        imax[i] = 1\n",
    "    elif nums[i] == nums[i-1]:\n",
    "        imax[i] = 0\n",
    "    else:\n",
    "        imax[i] = -1\n",
    "print(nums)\n",
    "print(imax)\n",
    "count = 0\n",
    "sign = 0\n",
    "for i in range(1,len(imax)):\n",
    "    if imax[i] == sign or imax[i] == 0:\n",
    "        continue\n",
    "    else:\n",
    "        count+=1\n",
    "        sign = imax[i]\n",
    "    print(sign,count)\n",
    "count"
   ]
  },
  {
   "cell_type": "markdown",
   "metadata": {
    "deletable": true,
    "editable": true
   },
   "source": [
    "http://localhost:8889/notebooks/376tolearn.ipynb"
   ]
  }
 ],
 "metadata": {
  "kernelspec": {
   "display_name": "Python 3",
   "language": "python",
   "name": "python3"
  },
  "language_info": {
   "codemirror_mode": {
    "name": "ipython",
    "version": 3
   },
   "file_extension": ".py",
   "mimetype": "text/x-python",
   "name": "python",
   "nbconvert_exporter": "python",
   "pygments_lexer": "ipython3",
   "version": "3.6.0"
  }
 },
 "nbformat": 4,
 "nbformat_minor": 2
}
