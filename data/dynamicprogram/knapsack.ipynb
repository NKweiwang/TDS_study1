{
 "cells": [
  {
   "cell_type": "code",
   "execution_count": 35,
   "metadata": {
    "collapsed": false
   },
   "outputs": [
    {
     "data": {
      "text/plain": [
       "[[0, 0, 0, 0, 0, 0, 0],\n",
       " [0, 0, 0, 0, 0, 0, 0],\n",
       " [0, 4, 4, 4, 4, 4, 4],\n",
       " [0, 4, 4, 4, 21, 21, 21],\n",
       " [0, 4, 6, 6, 21, 21, 21],\n",
       " [2, 4, 6, 6, 25, 25, 25],\n",
       " [2, 4, 10, 10, 25, 25, 25],\n",
       " [2, 6, 10, 10, 27, 27, 27],\n",
       " [2, 6, 10, 10, 27, 27, 27],\n",
       " [2, 6, 10, 10, 31, 31, 31],\n",
       " [4, 6, 10, 10, 31, 31, 31],\n",
       " [4, 6, 12, 12, 31, 31, 33],\n",
       " [4, 8, 12, 13, 31, 32, 33],\n",
       " [4, 8, 12, 13, 31, 32, 37],\n",
       " [4, 8, 12, 13, 33, 34, 37],\n",
       " [6, 8, 12, 13, 34, 34, 39]]"
      ]
     },
     "execution_count": 35,
     "metadata": {},
     "output_type": "execute_result"
    }
   ],
   "source": [
    "val = [2,4,6,3,21,7,12,]\n",
    "w = [5,2,4,6,3,7,8]\n",
    "\n",
    "T = 15\n",
    "dp = [[0]*(len(val)) for _ in range(T+1)]\n",
    "for j in range(T+1):\n",
    "    for i in range(len(val)):\n",
    "        opt = 0\n",
    "        if j >= w[i]:\n",
    "            dp[j][i] = val[i]#,dp[j-w[i]][max(i-1,0)] )\n",
    "            opt = dp[j-w[i]][max(i-1,0)] + val[i]\n",
    "        dp[j][i] = max(dp[j][i],dp[max(j-1,0)][i],dp[j][max(i-1,0)],opt)\n",
    "dp"
   ]
  },
  {
   "cell_type": "code",
   "execution_count": 9,
   "metadata": {
    "collapsed": false
   },
   "outputs": [
    {
     "data": {
      "text/plain": [
       "[[0, 0, 0, 0], [0, 1, 0, 0], [0, 0, 0, 0], [0, 0, 0, 0], [0, 0, 0, 0]]"
      ]
     },
     "execution_count": 9,
     "metadata": {},
     "output_type": "execute_result"
    }
   ],
   "source": [
    "dp = [[0] * (3+1) for _ in range(4+1)]\n",
    "dp[1][1] = 1\n",
    "dp"
   ]
  }
 ],
 "metadata": {
  "kernelspec": {
   "display_name": "Python 3",
   "language": "python",
   "name": "python3"
  },
  "language_info": {
   "codemirror_mode": {
    "name": "ipython",
    "version": 3
   },
   "file_extension": ".py",
   "mimetype": "text/x-python",
   "name": "python",
   "nbconvert_exporter": "python",
   "pygments_lexer": "ipython3",
   "version": "3.6.0"
  }
 },
 "nbformat": 4,
 "nbformat_minor": 2
}
