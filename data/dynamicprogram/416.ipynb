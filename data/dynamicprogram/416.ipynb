{
 "cells": [
  {
   "cell_type": "code",
   "execution_count": 18,
   "metadata": {
    "collapsed": false
   },
   "outputs": [
    {
     "name": "stdout",
     "output_type": "stream",
     "text": [
      "6 22\n",
      "10 18\n"
     ]
    },
    {
     "data": {
      "text/plain": [
       "False"
      ]
     },
     "execution_count": 18,
     "metadata": {},
     "output_type": "execute_result"
    }
   ],
   "source": [
    "nums = [1,2,3,4,5,6,7]\n",
    "nums.sort()\n",
    "finish = 0\n",
    "res = False\n",
    "n = len(nums)\n",
    "s = 0\n",
    "e = n-1\n",
    "\n",
    "while s<=e:\n",
    "    mid = int((s+e)/2)\n",
    "    sum_1 = sum(nums[:mid])\n",
    "    sum_2 = sum(nums[mid:])\n",
    "    if sum_1 == sum_2:\n",
    "        res = True\n",
    "        break\n",
    "    elif sum_1 > sum_2:\n",
    "        e = mid\n",
    "    else:\n",
    "        s = mid\n",
    "    if e-s ==1:\n",
    "        finish = 1\n",
    "        break\n",
    "    print(sum_1,sum_2)\n",
    "if finish ==1 and sum(nums[:e])==sum(nums[e:]):\n",
    "    res = True\n",
    "res\n",
    "\n",
    "#### this is wrong answer"
   ]
  },
  {
   "cell_type": "code",
   "execution_count": 22,
   "metadata": {
    "collapsed": false
   },
   "outputs": [
    {
     "data": {
      "text/plain": [
       "[defaultdict(int, {}),\n",
       " defaultdict(int, {}),\n",
       " defaultdict(int, {}),\n",
       " defaultdict(int, {}),\n",
       " defaultdict(int, {})]"
      ]
     },
     "execution_count": 22,
     "metadata": {},
     "output_type": "execute_result"
    }
   ],
   "source": [
    "from collections import defaultdict\n",
    "total = 0\n",
    "dp = [defaultdict(int) for item in [1,2,3,4,6]]\n",
    "dp"
   ]
  }
 ],
 "metadata": {
  "kernelspec": {
   "display_name": "Python 3",
   "language": "python",
   "name": "python3"
  },
  "language_info": {
   "codemirror_mode": {
    "name": "ipython",
    "version": 3
   },
   "file_extension": ".py",
   "mimetype": "text/x-python",
   "name": "python",
   "nbconvert_exporter": "python",
   "pygments_lexer": "ipython3",
   "version": "3.6.0"
  }
 },
 "nbformat": 4,
 "nbformat_minor": 2
}
